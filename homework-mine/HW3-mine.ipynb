{
 "metadata": {
  "name": "",
  "signature": "sha256:a9ce0a118e2701032361729dff3f261133d6f2719c38205bd33926d88be8c11f"
 },
 "nbformat": 3,
 "nbformat_minor": 0,
 "worksheets": [
  {
   "cells": [
    {
     "cell_type": "markdown",
     "metadata": {},
     "source": [
      "# Homework 3: Prediction and Classification\n",
      "\n",
      "Due: Thursday, October 16, 2014 11:59 PM\n",
      "\n",
      "<a href=https://raw.githubusercontent.com/cs109/2014/master/homework/HW3.ipynb download=HW3.ipynb> Download this assignment</a>\n",
      "\n",
      "#### Submission Instructions\n",
      "To submit your homework, create a folder named lastname_firstinitial_hw# and place your IPython notebooks, data files, and any other files in this folder. Your IPython Notebooks should be completely executed with the results visible in the notebook. We should not have to run any code. Compress the folder (please use .zip compression) and submit to the CS109 dropbox in the appropriate folder. If we cannot access your work because these directions are not followed correctly, we will not grade your work.\n",
      "\n",
      "---\n"
     ]
    },
    {
     "cell_type": "markdown",
     "metadata": {},
     "source": [
      "# Introduction\n",
      "\n",
      "In this assignment you will be using regression and classification to explore different data sets.  \n",
      "\n",
      "**First**: You will use data from before 2002 in the [Sean Lahman's Baseball Database](http://seanlahman.com/baseball-archive/statistics) to create a metric for picking baseball players using linear regression. This is same database we used in Homework 1. This database contains the \"complete batting and pitching statistics from 1871 to 2013, plus fielding statistics, standings, team stats, managerial records, post-season data, and more\". [Documentation provided here](http://seanlahman.com/files/database/readme2012.txt).\n",
      "\n",
      "![\"Sabermetrics Science\"](http://saberseminar.com/wp-content/uploads/2012/01/saber-web.jpg)\n",
      "http://saberseminar.com/wp-content/uploads/2012/01/saber-web.jpg\n",
      "\n",
      "**Second**: You will use the famous [iris](http://en.wikipedia.org/wiki/Iris_flower_data_set) data set to perform a $k$-neareast neighbor classification using cross validation.  While it was introduced in 1936, it is still [one of the most popular](http://archive.ics.uci.edu/ml/) example data sets in the machine learning community. Wikipedia describes the data set as follows: \"The data set consists of 50 samples from each of three species of Iris (Iris setosa, Iris virginica and Iris versicolor). Four features were measured from each sample: the length and the width of the sepals and petals, in centimetres.\" Here is an illustration what the four features measure:\n",
      "\n",
      "![\"iris data features\"](http://sebastianraschka.com/Images/2014_python_lda/iris_petal_sepal.png)\n",
      "http://sebastianraschka.com/Images/2014_python_lda/iris_petal_sepal.png\n",
      "\n",
      "**Third**: You will investigate the influence of higher dimensional spaces on the classification using another standard data set in machine learning called the The [digits data set](http://scikit-learn.org/stable/modules/generated/sklearn.datasets.load_digits.html).  This data set is similar to the MNIST data set discussed in the lecture. The main difference is, that each digit is represented by an 8x8 pixel image patch, which is considerably smaller than the 28x28 pixels from MNIST. In addition, the gray values are restricted to 16 different values (4 bit), instead of 256 (8 bit) for MNIST. \n",
      "\n",
      "**Finally**: In preparation for Homework 4, we want you to read through the following articles related to predicting the 2014 Senate Midterm Elections. \n",
      "\n",
      "* [Nate Silver's Methodology at while at NYT](http://fivethirtyeight.blogs.nytimes.com/methodology/)\n",
      "* [How The FiveThirtyEight Senate Forecast Model Works](http://fivethirtyeight.com/features/how-the-fivethirtyeight-senate-forecast-model-works/)\n",
      "* [Pollster Ratings v4.0: Methodology](http://fivethirtyeight.com/features/pollster-ratings-v40-methodology/)\n",
      "* [Pollster Ratings v4.0: Results](http://fivethirtyeight.com/features/pollster-ratings-v40-results/)\n",
      "* [Nate Silver versus Sam Wang](http://www.washingtonpost.com/blogs/plum-line/wp/2014/09/17/nate-silver-versus-sam-wang/)\n",
      "* [More Nate Silver versus Sam Wang](http://www.dailykos.com/story/2014/09/09/1328288/-Get-Ready-To-Rumbllllle-Battle-Of-The-Nerds-Nate-Silver-VS-Sam-Wang)\n",
      "* [Nate Silver explains critisims of Sam Wang](http://politicalwire.com/archives/2014/10/02/nate_silver_rebuts_sam_wang.html)\n",
      "* [Background on the feud between Nate Silver and Sam Wang](http://talkingpointsmemo.com/dc/nate-silver-sam-wang-feud)\n",
      "* [Are there swing voters?]( http://www.stat.columbia.edu/~gelman/research/unpublished/swing_voters.pdf)\n",
      "\n",
      "\n",
      "\n",
      "---"
     ]
    },
    {
     "cell_type": "markdown",
     "metadata": {},
     "source": [
      "## Load Python modules"
     ]
    },
    {
     "cell_type": "code",
     "collapsed": false,
     "input": [
      "# special IPython command to prepare the notebook for matplotlib\n",
      "%matplotlib inline  \n",
      "\n",
      "from matplotlib import rcParams\n",
      "from matplotlib import pyplot as plt\n",
      "\n",
      "#brewer2mpl makes it easier to use color tables from colorbrewer2.org in matplotlib\n",
      "#import brewer2mpl\n",
      "\n",
      "#dark2_colors = brewer2mpl.get_map('Dark2', 'Qualitative', 7).mpl_colors\n",
      "#rcParams['axes.color_cycle'] = dark2_colors\n",
      "\n",
      "#rcParams['axes.facecolor'] = 'white'     # Plot background color (same as default)\n",
      "\n",
      "#rcParams['figure.figsize'] = (10, 6)\n",
      "#rcParams['figure.dpi'] = 150\n",
      "\n",
      "#rcParams['lines.linewidth'] = 2\n",
      "\n",
      "#rcParams['font.size'] = 12\n",
      "#rcParams['font.family'] = 'sans-serif'  #'StixGeneral'\n",
      "\n",
      "# A patch is a 2D artist with a face color and an edge color.\n",
      "# (arcs, shapes, lines, bars in a histogram, ...)\n",
      "#rcParams['patch.edgecolor'] = 'white'\n",
      "#rcParams['patch.facecolor'] = dark2_colors[0] \n",
      "\n",
      "import requests \n",
      "import requests_cache\n",
      "import StringIO\n",
      "import zipfile\n",
      "import numpy as np\n",
      "import pandas as pd # pandas\n",
      "\n",
      "# If this module is not already installed, you may need to install it. \n",
      "# You can do this by typing 'pip install seaborn' in the command line\n",
      "import seaborn as sns \n",
      "\n",
      "import sklearn\n",
      "import sklearn.datasets\n",
      "import sklearn.cross_validation\n",
      "import sklearn.decomposition\n",
      "import sklearn.grid_search\n",
      "import sklearn.neighbors\n",
      "import sklearn.metrics"
     ],
     "language": "python",
     "metadata": {},
     "outputs": [],
     "prompt_number": 3
    },
    {
     "cell_type": "markdown",
     "metadata": {},
     "source": [
      "# Problem 1: Sabermetrics\n",
      "\n",
      "Using data preceding the 2002 season pick 10 offensive players keeping the payroll under $20 million (assign each player the median salary). Predict how many games this team would win in a 162 game season.  \n",
      "\n",
      "In this problem we will be returning to the [Sean Lahman's Baseball Database](http://seanlahman.com/baseball-archive/statistics) that we used in Homework 1.  From this database, we will be extract five data sets containing information such as yearly stats and standing, batting statistics, fielding statistics, player names, player salaries and biographical information. You will explore the data in this database from before 2002 and create a metric for picking players. "
     ]
    },
    {
     "cell_type": "markdown",
     "metadata": {},
     "source": [
      "#### Problem 1(a) \n",
      "\n",
      "Load in [these CSV files](http://seanlahman.com/files/database/lahman-csv_2014-02-14.zip) from the [Sean Lahman's Baseball Database](http://seanlahman.com/baseball-archive/statistics). For this assignment, we will use the 'Teams.csv', 'Batting.csv', 'Salaries.csv', 'Fielding.csv', 'Master.csv' tables. Read these tables into separate pandas DataFrames with the following names. \n",
      "\n",
      "CSV file name | Name of pandas DataFrame\n",
      ":---: | :---: \n",
      "Teams.csv | teams\n",
      "Batting.csv | players\n",
      "Salaries.csv | salaries\n",
      "Fielding.csv | fielding\n",
      "Master.csv | master"
     ]
    },
    {
     "cell_type": "code",
     "collapsed": false,
     "input": [
      "requests_cache.install_cache('harvard_hw3_baseball', backend='sqlite')\n",
      "\n",
      "r = requests.get('http://seanlahman.com/files/database/lahman-csv_2014-02-14.zip')\n",
      "zf = zipfile.ZipFile(StringIO.StringIO(r.content))\n",
      "\n",
      "teams = pd.read_csv(zf.extract('Teams.csv'))\n",
      "players = pd.read_csv(zf.extract('Batting.csv'))\n",
      "salaries = pd.read_csv(zf.extract('Salaries.csv'))\n",
      "fielding = pd.read_csv(zf.extract('Fielding.csv'))\n",
      "master = pd.read_csv(zf.extract('Master.csv'))\n",
      "\n",
      "print \"Dimensions of teams DataFrame:\", teams.shape\n",
      "print \"Dimensions of players DataFrame:\", players.shape\n",
      "print \"Dimensions of salaries DataFrame:\", salaries.shape\n",
      "print \"Dimensions of fielding DataFrame:\", fielding.shape\n",
      "print \"Dimensions of master DataFrame:\", master.shape\n"
     ],
     "language": "python",
     "metadata": {},
     "outputs": [
      {
       "output_type": "stream",
       "stream": "stdout",
       "text": [
        "Dimensions of teams DataFrame: (2745, 48)\n",
        "Dimensions of players DataFrame: (97889, 24)\n",
        "Dimensions of salaries DataFrame: (23956, 5)\n",
        "Dimensions of fielding DataFrame: (166991, 18)\n",
        "Dimensions of master DataFrame: (18354, 24)\n"
       ]
      }
     ],
     "prompt_number": 6
    },
    {
     "cell_type": "markdown",
     "metadata": {},
     "source": [
      "#### Problem 1(b)\n",
      "\n",
      "Calculate the median salary for each player and create a pandas DataFrame called `medianSalaries` with four columns: (1) the player ID, (2) the first name of the player, (3) the last name of the player and (4) the median salary of the player. Show the head of the `medianSalaries` DataFrame.   "
     ]
    },
    {
     "cell_type": "code",
     "collapsed": false,
     "input": [
      "# This creates a DF, with one col 'salary' and an index 'playerID'\n",
      "medians = salaries.groupby('playerID')['playerID', 'salary'].median()\n",
      "\n",
      "# if we did \n",
      "# medians = salaries.groupby('playerID')[''salary'].median()\n",
      "# we would have gotten a Series, and the merge below wouldn't work (for some reason).\n",
      "# Morale : one merge dataframes.\n",
      "\n",
      "medianSalaries = pd.merge(master[['playerID', 'nameFirst', 'nameLast']], medians, left_on=\"playerID\", right_index=True, how='inner')\n",
      "medianSalaries.head()"
     ],
     "language": "python",
     "metadata": {},
     "outputs": [
      {
       "html": [
        "<div style=\"max-height:1000px;max-width:1500px;overflow:auto;\">\n",
        "<table border=\"1\" class=\"dataframe\">\n",
        "  <thead>\n",
        "    <tr style=\"text-align: right;\">\n",
        "      <th></th>\n",
        "      <th>playerID</th>\n",
        "      <th>nameFirst</th>\n",
        "      <th>nameLast</th>\n",
        "      <th>salary</th>\n",
        "    </tr>\n",
        "  </thead>\n",
        "  <tbody>\n",
        "    <tr>\n",
        "      <th>0 </th>\n",
        "      <td> aardsda01</td>\n",
        "      <td>    David</td>\n",
        "      <td> Aardsma</td>\n",
        "      <td> 419000</td>\n",
        "    </tr>\n",
        "    <tr>\n",
        "      <th>3 </th>\n",
        "      <td>  aasedo01</td>\n",
        "      <td>      Don</td>\n",
        "      <td>    Aase</td>\n",
        "      <td> 612500</td>\n",
        "    </tr>\n",
        "    <tr>\n",
        "      <th>4 </th>\n",
        "      <td>  abadan01</td>\n",
        "      <td>     Andy</td>\n",
        "      <td>    Abad</td>\n",
        "      <td> 327000</td>\n",
        "    </tr>\n",
        "    <tr>\n",
        "      <th>5 </th>\n",
        "      <td>  abadfe01</td>\n",
        "      <td> Fernando</td>\n",
        "      <td>    Abad</td>\n",
        "      <td> 451500</td>\n",
        "    </tr>\n",
        "    <tr>\n",
        "      <th>13</th>\n",
        "      <td> abbotje01</td>\n",
        "      <td>     Jeff</td>\n",
        "      <td>  Abbott</td>\n",
        "      <td> 255000</td>\n",
        "    </tr>\n",
        "  </tbody>\n",
        "</table>\n",
        "</div>"
       ],
       "metadata": {},
       "output_type": "pyout",
       "prompt_number": 7,
       "text": [
        "     playerID nameFirst nameLast  salary\n",
        "0   aardsda01     David  Aardsma  419000\n",
        "3    aasedo01       Don     Aase  612500\n",
        "4    abadan01      Andy     Abad  327000\n",
        "5    abadfe01  Fernando     Abad  451500\n",
        "13  abbotje01      Jeff   Abbott  255000"
       ]
      }
     ],
     "prompt_number": 7
    },
    {
     "cell_type": "markdown",
     "metadata": {},
     "source": [
      "#### Problem 1(c)\n",
      "\n",
      "Now, consider only team/season combinations in which the teams played 162 Games. Exclude all data from before 1947. Compute the per plate appearance rates for singles, doubles, triples, HR, and BB. Create a new pandas DataFrame called `stats` that has the teamID, yearID, wins and these rates.\n",
      "\n",
      "**Hint**: Singles are hits that are not doubles, triples, nor HR. Plate appearances are base on balls plus at bats."
     ]
    },
    {
     "cell_type": "code",
     "collapsed": false,
     "input": [
      "subTeams = teams[(teams['yearID'] > 1947) & (teams['G'] == 162)].copy()\n",
      "\n",
      "stats_pa = subTeams.BB + subTeams.AB\n",
      "\n",
      "#stats ,'2B','3B','HR','BB']]\n",
      "subTeams['1B'] = (subTeams['H'] - subTeams['2B'] - subTeams['3B'] - subTeams['HR'])/stats_pa\n",
      "subTeams['2B'] = subTeams['2B']/stats_pa\n",
      "subTeams['3B'] = subTeams['3B']/stats_pa\n",
      "subTeams['HR'] = subTeams['HR']/stats_pa\n",
      "subTeams['BB'] = subTeams['BB']/stats_pa\n",
      "\n",
      "stats = subTeams[['teamID', 'yearID', 'W', '1B', '2B', '3B', 'HR', 'BB']].copy()\n",
      "stats.head()"
     ],
     "language": "python",
     "metadata": {},
     "outputs": [
      {
       "html": [
        "<div style=\"max-height:1000px;max-width:1500px;overflow:auto;\">\n",
        "<table border=\"1\" class=\"dataframe\">\n",
        "  <thead>\n",
        "    <tr style=\"text-align: right;\">\n",
        "      <th></th>\n",
        "      <th>teamID</th>\n",
        "      <th>yearID</th>\n",
        "      <th>W</th>\n",
        "      <th>1B</th>\n",
        "      <th>2B</th>\n",
        "      <th>3B</th>\n",
        "      <th>HR</th>\n",
        "      <th>BB</th>\n",
        "    </tr>\n",
        "  </thead>\n",
        "  <tbody>\n",
        "    <tr>\n",
        "      <th>1366</th>\n",
        "      <td> LAA</td>\n",
        "      <td> 1961</td>\n",
        "      <td> 70</td>\n",
        "      <td> 0.147748</td>\n",
        "      <td> 0.035708</td>\n",
        "      <td> 0.003604</td>\n",
        "      <td> 0.030958</td>\n",
        "      <td> 0.111548</td>\n",
        "    </tr>\n",
        "    <tr>\n",
        "      <th>1367</th>\n",
        "      <td> KC1</td>\n",
        "      <td> 1961</td>\n",
        "      <td> 61</td>\n",
        "      <td> 0.164751</td>\n",
        "      <td> 0.035982</td>\n",
        "      <td> 0.007829</td>\n",
        "      <td> 0.014993</td>\n",
        "      <td> 0.096618</td>\n",
        "    </tr>\n",
        "    <tr>\n",
        "      <th>1377</th>\n",
        "      <td> NYA</td>\n",
        "      <td> 1962</td>\n",
        "      <td> 96</td>\n",
        "      <td> 0.167148</td>\n",
        "      <td> 0.038536</td>\n",
        "      <td> 0.004656</td>\n",
        "      <td> 0.031952</td>\n",
        "      <td> 0.093770</td>\n",
        "    </tr>\n",
        "    <tr>\n",
        "      <th>1379</th>\n",
        "      <td> LAA</td>\n",
        "      <td> 1962</td>\n",
        "      <td> 86</td>\n",
        "      <td> 0.159482</td>\n",
        "      <td> 0.038027</td>\n",
        "      <td> 0.005737</td>\n",
        "      <td> 0.022455</td>\n",
        "      <td> 0.098672</td>\n",
        "    </tr>\n",
        "    <tr>\n",
        "      <th>1381</th>\n",
        "      <td> CHA</td>\n",
        "      <td> 1962</td>\n",
        "      <td> 85</td>\n",
        "      <td> 0.165797</td>\n",
        "      <td> 0.040756</td>\n",
        "      <td> 0.009129</td>\n",
        "      <td> 0.014998</td>\n",
        "      <td> 0.101076</td>\n",
        "    </tr>\n",
        "  </tbody>\n",
        "</table>\n",
        "</div>"
       ],
       "metadata": {},
       "output_type": "pyout",
       "prompt_number": 8,
       "text": [
        "     teamID  yearID   W        1B        2B        3B        HR        BB\n",
        "1366    LAA    1961  70  0.147748  0.035708  0.003604  0.030958  0.111548\n",
        "1367    KC1    1961  61  0.164751  0.035982  0.007829  0.014993  0.096618\n",
        "1377    NYA    1962  96  0.167148  0.038536  0.004656  0.031952  0.093770\n",
        "1379    LAA    1962  86  0.159482  0.038027  0.005737  0.022455  0.098672\n",
        "1381    CHA    1962  85  0.165797  0.040756  0.009129  0.014998  0.101076"
       ]
      }
     ],
     "prompt_number": 8
    },
    {
     "cell_type": "markdown",
     "metadata": {},
     "source": [
      "#### Problem 1(d)\n",
      "\n",
      "Is there a noticeable time trend in the rates computed computed in Problem 1(c)? "
     ]
    },
    {
     "cell_type": "code",
     "collapsed": false,
     "input": [
      "for col in ['1B', '2B', '3B', 'HR', 'BB']:\n",
      "    plt.scatter(stats.yearID, stats[col], c=\"g\", alpha=0.5)\n",
      "    plt.title('{} per year'.format(col))\n",
      "    plt.xlabel('Wins')\n",
      "    plt.show()"
     ],
     "language": "python",
     "metadata": {},
     "outputs": [
      {
       "metadata": {},
       "output_type": "display_data",
       "png": "[encoded data removed]",
       "text": [
        "<matplotlib.figure.Figure at 0x7ffbafb92a90>"
       ]
      },
      {
       "metadata": {},
       "output_type": "display_data",
       "png": "[encoded data removed]",
       "text": [
        "<matplotlib.figure.Figure at 0x7ffbaf88fc50>"
       ]
      },
      {
       "metadata": {},
       "output_type": "display_data",
       "png": "[encoded data removed]",
       "text": [
        "<matplotlib.figure.Figure at 0x7ffbaf72ef90>"
       ]
      },
      {
       "metadata": {},
       "output_type": "display_data",
       "png": "[encoded data removed]",
       "text": [
        "<matplotlib.figure.Figure at 0x7ffbaf662e10>"
       ]
      },
      {
       "metadata": {},
       "output_type": "display_data",
       "png": "[encoded data removed]",
       "text": [
        "<matplotlib.figure.Figure at 0x7ffbaf5a5490>"
       ]
      }
     ],
     "prompt_number": 9
    },
    {
     "cell_type": "markdown",
     "metadata": {},
     "source": [
      "#### Problem 1(e) \n",
      "\n",
      "Using the `stats` DataFrame from Problem 1(c), adjust the singles per PA rates so that the average across teams for each year is 0. Do the same for the doubles, triples, HR, and BB rates. "
     ]
    },
    {
     "cell_type": "code",
     "collapsed": false,
     "input": [
      "def normalizeStats(x):\n",
      "    # Create a view of the 5 rows & use it to modify the original df\n",
      "    sel = x[['1B', '2B', '3B', 'HR', 'BB']]\n",
      "    x[['1B', '2B', '3B', 'HR', 'BB']] = sel - sel.mean(axis=0)\n",
      "    return x\n",
      "\n",
      "\n",
      "stats = stats.groupby('yearID').apply(normalizeStats)\n",
      "stats.head()"
     ],
     "language": "python",
     "metadata": {},
     "outputs": [
      {
       "html": [
        "<div style=\"max-height:1000px;max-width:1500px;overflow:auto;\">\n",
        "<table border=\"1\" class=\"dataframe\">\n",
        "  <thead>\n",
        "    <tr style=\"text-align: right;\">\n",
        "      <th></th>\n",
        "      <th>teamID</th>\n",
        "      <th>yearID</th>\n",
        "      <th>W</th>\n",
        "      <th>1B</th>\n",
        "      <th>2B</th>\n",
        "      <th>3B</th>\n",
        "      <th>HR</th>\n",
        "      <th>BB</th>\n",
        "    </tr>\n",
        "  </thead>\n",
        "  <tbody>\n",
        "    <tr>\n",
        "      <th>1366</th>\n",
        "      <td> LAA</td>\n",
        "      <td> 1961</td>\n",
        "      <td> 70</td>\n",
        "      <td>-0.008502</td>\n",
        "      <td>-0.000137</td>\n",
        "      <td>-0.002113</td>\n",
        "      <td> 0.007983</td>\n",
        "      <td> 0.007465</td>\n",
        "    </tr>\n",
        "    <tr>\n",
        "      <th>1367</th>\n",
        "      <td> KC1</td>\n",
        "      <td> 1961</td>\n",
        "      <td> 61</td>\n",
        "      <td> 0.008502</td>\n",
        "      <td> 0.000137</td>\n",
        "      <td> 0.002113</td>\n",
        "      <td>-0.007983</td>\n",
        "      <td>-0.007465</td>\n",
        "    </tr>\n",
        "    <tr>\n",
        "      <th>1377</th>\n",
        "      <td> NYA</td>\n",
        "      <td> 1962</td>\n",
        "      <td> 96</td>\n",
        "      <td> 0.001516</td>\n",
        "      <td> 0.002683</td>\n",
        "      <td>-0.002121</td>\n",
        "      <td> 0.008141</td>\n",
        "      <td> 0.005180</td>\n",
        "    </tr>\n",
        "    <tr>\n",
        "      <th>1379</th>\n",
        "      <td> LAA</td>\n",
        "      <td> 1962</td>\n",
        "      <td> 86</td>\n",
        "      <td>-0.006150</td>\n",
        "      <td> 0.002174</td>\n",
        "      <td>-0.001040</td>\n",
        "      <td>-0.001356</td>\n",
        "      <td> 0.010082</td>\n",
        "    </tr>\n",
        "    <tr>\n",
        "      <th>1381</th>\n",
        "      <td> CHA</td>\n",
        "      <td> 1962</td>\n",
        "      <td> 85</td>\n",
        "      <td> 0.000165</td>\n",
        "      <td> 0.004904</td>\n",
        "      <td> 0.002352</td>\n",
        "      <td>-0.008813</td>\n",
        "      <td> 0.012486</td>\n",
        "    </tr>\n",
        "  </tbody>\n",
        "</table>\n",
        "</div>"
       ],
       "metadata": {},
       "output_type": "pyout",
       "prompt_number": 10,
       "text": [
        "     teamID  yearID   W        1B        2B        3B        HR        BB\n",
        "1366    LAA    1961  70 -0.008502 -0.000137 -0.002113  0.007983  0.007465\n",
        "1367    KC1    1961  61  0.008502  0.000137  0.002113 -0.007983 -0.007465\n",
        "1377    NYA    1962  96  0.001516  0.002683 -0.002121  0.008141  0.005180\n",
        "1379    LAA    1962  86 -0.006150  0.002174 -0.001040 -0.001356  0.010082\n",
        "1381    CHA    1962  85  0.000165  0.004904  0.002352 -0.008813  0.012486"
       ]
      }
     ],
     "prompt_number": 10
    },
    {
     "cell_type": "markdown",
     "metadata": {},
     "source": [
      "#### Problem 1(f)\n",
      "\n",
      "Build a simple linear regression model to predict the number of wins from the average adjusted singles, double, triples, HR, and BB rates. To decide which of these terms to include fit the model to data from 2002 and compute the average squared residuals from predictions to years past 2002. Use the fitted model to define a new sabermetric summary: offensive predicted wins (OPW). Hint: the new summary should be a linear combination of one to five of the five rates.\n"
     ]
    },
    {
     "cell_type": "code",
     "collapsed": false,
     "input": [
      "from sklearn.linear_model import LinearRegression\n",
      "\n",
      "def mse(Y, Y_hat):\n",
      "    return np.mean((Y_hat - Y)**2)\n",
      "\n",
      "stats_train = stats[stats['yearID'] < 2002]\n",
      "stats_test = stats[stats['yearID'] >= 2002]\n",
      "\n",
      "Y_train = stats_train[['W']].values\n",
      "Y_test = stats_test[['W']].values\n",
      "\n",
      "for col in ['1B', '2B', '3B', 'HR', 'BB']:\n",
      "    lm = LinearRegression()\n",
      "    X_train = stats_train[[col]].values\n",
      "    X_test = stats_test[[col]].values\n",
      "    lm.fit(X_test, Y_test)\n",
      "    rsq = lm.score(X_test, Y_test)\n",
      "    mse_test = mse(Y_test, lm.predict(X_test))\n",
      "    #print mse_test\n",
      "    print \"{} : MSE={}, R^2 train={}\".format(col, round(mse_test,2), round(rsq,2))\n",
      "\n",
      "    \n",
      "XX_train = stats_train[['1B', '2B', '3B', 'HR', 'BB']].values\n",
      "XX_test = stats_test[['1B', '2B', '3B', 'HR', 'BB']].values\n",
      "lm = LinearRegression()\n",
      "lm.fit(XX_train, Y_train)\n",
      "rsq = lm.score(XX_test, Y_test)\n",
      "mse_test = mse(Y_test, lm.predict(XX_test))\n",
      "print \"{} : MSE={}, R^2 train={}\".format(\"total\", round(mse_test,2), round(rsq,2))\n",
      "\n",
      "opwModel = lm"
     ],
     "language": "python",
     "metadata": {},
     "outputs": [
      {
       "output_type": "stream",
       "stream": "stdout",
       "text": [
        "1B : MSE=131.83, R^2 train=0.0\n",
        "2B : MSE=125.17, R^2 train=0.05\n",
        "3B : MSE=131.93, R^2 train=0.0\n",
        "HR : MSE=112.8, R^2 train=0.15\n",
        "BB : MSE=110.86, R^2 train=0.16\n",
        "total : MSE=83.82, R^2 train=0.37\n"
       ]
      }
     ],
     "prompt_number": 11
    },
    {
     "cell_type": "markdown",
     "metadata": {},
     "source": [
      "** Your answer here: **"
     ]
    },
    {
     "cell_type": "markdown",
     "metadata": {},
     "source": [
      "#### Problem 1(g)\n",
      "\n",
      "Now we will create a similar database for individual players. Consider only player/year combinations in which the player had at least 500 plate appearances. Consider only the years we considered for the calculations above (after 1947 and seasons with 162 games). For each player/year compute singles, doubles, triples, HR, BB per plate appearance rates. Create a new pandas DataFrame called `playerstats` that has the playerID, yearID and the rates of these stats.  Remove the average for each year as for these rates as done in Problem 1(e). "
     ]
    },
    {
     "cell_type": "code",
     "collapsed": false,
     "input": [
      "# subPlayers = players[(players['yearID'] >= 1947) & (players['G'] == 162)].copy()\n",
      "# The solutions dont restrict to 162 game seasons ...\n",
      "subPlayers = players[(players['yearID'] > 1947) & (players.AB + players.BB > 500)].copy()\n",
      "\n",
      "subPlayers['1B'] = subPlayers['H'] - subPlayers['2B'] - subPlayers['3B'] - subPlayers['HR']\n",
      "subPlayers['PA'] = subPlayers['BB'] + subPlayers['AB']\n",
      "\n",
      "for col in ['1B', '2B', '3B', 'HR', 'BB']:\n",
      "    subPlayers[col] = subPlayers[col] / subPlayers['PA']\n",
      "    \n",
      "playerstats = subPlayers[['playerID', 'yearID', '1B', '2B', '3B', 'HR', 'BB']].copy()\n",
      "\n",
      "def meanNormalizeRates(df):\n",
      "        subRates = df[[\"1B\",\"2B\",\"3B\",\"HR\",\"BB\"]]\n",
      "        df[[\"1B\",\"2B\",\"3B\",\"HR\",\"BB\"]] = subRates - subRates.mean(axis=0)\n",
      "        return df\n",
      "\n",
      "playerstats = playerstats.groupby('yearID').apply(meanNormalizeRates)"
     ],
     "language": "python",
     "metadata": {},
     "outputs": [],
     "prompt_number": 12
    },
    {
     "cell_type": "markdown",
     "metadata": {},
     "source": [
      "Show the head of the `playerstats` DataFrame. "
     ]
    },
    {
     "cell_type": "code",
     "collapsed": false,
     "input": [
      "playerstats.head()"
     ],
     "language": "python",
     "metadata": {},
     "outputs": [
      {
       "html": [
        "<div style=\"max-height:1000px;max-width:1500px;overflow:auto;\">\n",
        "<table border=\"1\" class=\"dataframe\">\n",
        "  <thead>\n",
        "    <tr style=\"text-align: right;\">\n",
        "      <th></th>\n",
        "      <th>playerID</th>\n",
        "      <th>yearID</th>\n",
        "      <th>1B</th>\n",
        "      <th>2B</th>\n",
        "      <th>3B</th>\n",
        "      <th>HR</th>\n",
        "      <th>BB</th>\n",
        "    </tr>\n",
        "  </thead>\n",
        "  <tbody>\n",
        "    <tr>\n",
        "      <th>8 </th>\n",
        "      <td> aaronha01</td>\n",
        "      <td> 1955</td>\n",
        "      <td> 0.001060</td>\n",
        "      <td> 0.018570</td>\n",
        "      <td> 0.005585</td>\n",
        "      <td> 0.011337</td>\n",
        "      <td>-0.027249</td>\n",
        "    </tr>\n",
        "    <tr>\n",
        "      <th>9 </th>\n",
        "      <td> aaronha01</td>\n",
        "      <td> 1956</td>\n",
        "      <td> 0.021561</td>\n",
        "      <td> 0.013857</td>\n",
        "      <td> 0.012480</td>\n",
        "      <td> 0.009593</td>\n",
        "      <td>-0.044600</td>\n",
        "    </tr>\n",
        "    <tr>\n",
        "      <th>10</th>\n",
        "      <td> aaronha01</td>\n",
        "      <td> 1957</td>\n",
        "      <td> 0.004817</td>\n",
        "      <td>-0.002034</td>\n",
        "      <td> 0.000466</td>\n",
        "      <td> 0.037093</td>\n",
        "      <td>-0.013166</td>\n",
        "    </tr>\n",
        "    <tr>\n",
        "      <th>11</th>\n",
        "      <td> aaronha01</td>\n",
        "      <td> 1958</td>\n",
        "      <td> 0.018367</td>\n",
        "      <td> 0.011015</td>\n",
        "      <td>-0.002219</td>\n",
        "      <td> 0.015398</td>\n",
        "      <td>-0.007762</td>\n",
        "    </tr>\n",
        "    <tr>\n",
        "      <th>12</th>\n",
        "      <td> aaronha01</td>\n",
        "      <td> 1959</td>\n",
        "      <td> 0.016261</td>\n",
        "      <td> 0.025762</td>\n",
        "      <td> 0.002743</td>\n",
        "      <td> 0.028368</td>\n",
        "      <td>-0.022898</td>\n",
        "    </tr>\n",
        "  </tbody>\n",
        "</table>\n",
        "</div>"
       ],
       "metadata": {},
       "output_type": "pyout",
       "prompt_number": 13,
       "text": [
        "     playerID  yearID        1B        2B        3B        HR        BB\n",
        "8   aaronha01    1955  0.001060  0.018570  0.005585  0.011337 -0.027249\n",
        "9   aaronha01    1956  0.021561  0.013857  0.012480  0.009593 -0.044600\n",
        "10  aaronha01    1957  0.004817 -0.002034  0.000466  0.037093 -0.013166\n",
        "11  aaronha01    1958  0.018367  0.011015 -0.002219  0.015398 -0.007762\n",
        "12  aaronha01    1959  0.016261  0.025762  0.002743  0.028368 -0.022898"
       ]
      }
     ],
     "prompt_number": 13
    },
    {
     "cell_type": "markdown",
     "metadata": {},
     "source": [
      "#### Problem 1(h)\n",
      "\n",
      "Using the `playerstats` DataFrame created in Problem 1(g), create a new DataFrame called `playerLS` containing the player's lifetime stats. This DataFrame should contain the playerID, the year the player's career started, the year the player's career ended and the player's lifetime average for each of the quantities (singles, doubles, triples, HR, BB). For simplicity we will simply compute the avaerage of the rates by year (a more correct way is to go back to the totals). "
     ]
    },
    {
     "cell_type": "code",
     "collapsed": false,
     "input": [
      "playerLS = master[['playerID']]\n",
      "playerLS['minYear'] = master['debut'].apply(lambda x: str(x).split('-')[0])\n",
      "playerLS['maxYear'] = master['finalGame'].apply(lambda x: str(x).split('-')[0])\n",
      "stats_temp = playerstats.groupby('playerID')[['1B', '2B', '3B', 'HR', 'BB']].agg(lambda x: np.mean(x)).copy()\n",
      "\n",
      "playerLS = playerLS.merge(stats_temp, how='inner', left_on='playerID', right_index=True,copy=False)\n",
      "playerLS.reset_index(inplace=True, drop=True)"
     ],
     "language": "python",
     "metadata": {},
     "outputs": [
      {
       "output_type": "stream",
       "stream": "stderr",
       "text": [
        "-c:2: SettingWithCopyWarning: \n",
        "A value is trying to be set on a copy of a slice from a DataFrame.\n",
        "Try using .loc[row_indexer,col_indexer] = value instead\n",
        "\n",
        "See the the caveats in the documentation: http://pandas.pydata.org/pandas-docs/stable/indexing.html#indexing-view-versus-copy\n",
        "-c:3: SettingWithCopyWarning: \n",
        "A value is trying to be set on a copy of a slice from a DataFrame.\n",
        "Try using .loc[row_indexer,col_indexer] = value instead\n",
        "\n",
        "See the the caveats in the documentation: http://pandas.pydata.org/pandas-docs/stable/indexing.html#indexing-view-versus-copy\n"
       ]
      }
     ],
     "prompt_number": 14
    },
    {
     "cell_type": "markdown",
     "metadata": {},
     "source": [
      "Show the head of the `playerLS` DataFrame. "
     ]
    },
    {
     "cell_type": "code",
     "collapsed": false,
     "input": [
      "playerLS.head()"
     ],
     "language": "python",
     "metadata": {},
     "outputs": [
      {
       "html": [
        "<div style=\"max-height:1000px;max-width:1500px;overflow:auto;\">\n",
        "<table border=\"1\" class=\"dataframe\">\n",
        "  <thead>\n",
        "    <tr style=\"text-align: right;\">\n",
        "      <th></th>\n",
        "      <th>playerID</th>\n",
        "      <th>minYear</th>\n",
        "      <th>maxYear</th>\n",
        "      <th>1B</th>\n",
        "      <th>2B</th>\n",
        "      <th>3B</th>\n",
        "      <th>HR</th>\n",
        "      <th>BB</th>\n",
        "    </tr>\n",
        "  </thead>\n",
        "  <tbody>\n",
        "    <tr>\n",
        "      <th>0</th>\n",
        "      <td> aaronha01</td>\n",
        "      <td> 1954</td>\n",
        "      <td> 1976</td>\n",
        "      <td>-0.007157</td>\n",
        "      <td> 0.006539</td>\n",
        "      <td>-0.000270</td>\n",
        "      <td> 0.027850</td>\n",
        "      <td> 0.009447</td>\n",
        "    </tr>\n",
        "    <tr>\n",
        "      <th>1</th>\n",
        "      <td> abramca01</td>\n",
        "      <td> 1949</td>\n",
        "      <td> 1956</td>\n",
        "      <td> 0.013463</td>\n",
        "      <td>-0.023915</td>\n",
        "      <td> 0.002384</td>\n",
        "      <td> 0.003842</td>\n",
        "      <td> 0.019455</td>\n",
        "    </tr>\n",
        "    <tr>\n",
        "      <th>2</th>\n",
        "      <td> abreubo01</td>\n",
        "      <td> 1996</td>\n",
        "      <td> 2012</td>\n",
        "      <td>-0.008202</td>\n",
        "      <td> 0.006421</td>\n",
        "      <td> 0.001002</td>\n",
        "      <td>-0.003252</td>\n",
        "      <td> 0.050501</td>\n",
        "    </tr>\n",
        "    <tr>\n",
        "      <th>3</th>\n",
        "      <td> ackledu01</td>\n",
        "      <td> 2011</td>\n",
        "      <td> 2013</td>\n",
        "      <td>-0.009270</td>\n",
        "      <td>-0.016605</td>\n",
        "      <td>-0.001974</td>\n",
        "      <td>-0.015274</td>\n",
        "      <td> 0.001597</td>\n",
        "    </tr>\n",
        "    <tr>\n",
        "      <th>4</th>\n",
        "      <td> adairje01</td>\n",
        "      <td> 1958</td>\n",
        "      <td> 1970</td>\n",
        "      <td> 0.011933</td>\n",
        "      <td> 0.003286</td>\n",
        "      <td>-0.002139</td>\n",
        "      <td>-0.012934</td>\n",
        "      <td>-0.037229</td>\n",
        "    </tr>\n",
        "  </tbody>\n",
        "</table>\n",
        "</div>"
       ],
       "metadata": {},
       "output_type": "pyout",
       "prompt_number": 15,
       "text": [
        "    playerID minYear maxYear        1B        2B        3B        HR        BB\n",
        "0  aaronha01    1954    1976 -0.007157  0.006539 -0.000270  0.027850  0.009447\n",
        "1  abramca01    1949    1956  0.013463 -0.023915  0.002384  0.003842  0.019455\n",
        "2  abreubo01    1996    2012 -0.008202  0.006421  0.001002 -0.003252  0.050501\n",
        "3  ackledu01    2011    2013 -0.009270 -0.016605 -0.001974 -0.015274  0.001597\n",
        "4  adairje01    1958    1970  0.011933  0.003286 -0.002139 -0.012934 -0.037229"
       ]
      }
     ],
     "prompt_number": 15
    },
    {
     "cell_type": "markdown",
     "metadata": {},
     "source": [
      "#### Problem 1(i)\n",
      "\n",
      "Compute the OPW for each player based on the average rates in the `playerLS` DataFrame. You can interpret this summary statistic as the predicted wins for a team with 9 batters exactly like the player in question. Add this column to the playerLS DataFrame. Call this colum OPW."
     ]
    },
    {
     "cell_type": "code",
     "collapsed": false,
     "input": [
      "playerLS['OPW'] = opwModel.predict(playerLS[['1B', '2B', '3B', 'HR', 'BB']].values)\n",
      "playerLS.head()"
     ],
     "language": "python",
     "metadata": {},
     "outputs": [
      {
       "html": [
        "<div style=\"max-height:1000px;max-width:1500px;overflow:auto;\">\n",
        "<table border=\"1\" class=\"dataframe\">\n",
        "  <thead>\n",
        "    <tr style=\"text-align: right;\">\n",
        "      <th></th>\n",
        "      <th>playerID</th>\n",
        "      <th>minYear</th>\n",
        "      <th>maxYear</th>\n",
        "      <th>1B</th>\n",
        "      <th>2B</th>\n",
        "      <th>3B</th>\n",
        "      <th>HR</th>\n",
        "      <th>BB</th>\n",
        "      <th>OPW</th>\n",
        "    </tr>\n",
        "  </thead>\n",
        "  <tbody>\n",
        "    <tr>\n",
        "      <th>0</th>\n",
        "      <td> aaronha01</td>\n",
        "      <td> 1954</td>\n",
        "      <td> 1976</td>\n",
        "      <td>-0.007157</td>\n",
        "      <td> 0.006539</td>\n",
        "      <td>-0.000270</td>\n",
        "      <td> 0.027850</td>\n",
        "      <td> 0.009447</td>\n",
        "      <td> 108.696139</td>\n",
        "    </tr>\n",
        "    <tr>\n",
        "      <th>1</th>\n",
        "      <td> abramca01</td>\n",
        "      <td> 1949</td>\n",
        "      <td> 1956</td>\n",
        "      <td> 0.013463</td>\n",
        "      <td>-0.023915</td>\n",
        "      <td> 0.002384</td>\n",
        "      <td> 0.003842</td>\n",
        "      <td> 0.019455</td>\n",
        "      <td>  92.575472</td>\n",
        "    </tr>\n",
        "    <tr>\n",
        "      <th>2</th>\n",
        "      <td> abreubo01</td>\n",
        "      <td> 1996</td>\n",
        "      <td> 2012</td>\n",
        "      <td>-0.008202</td>\n",
        "      <td> 0.006421</td>\n",
        "      <td> 0.001002</td>\n",
        "      <td>-0.003252</td>\n",
        "      <td> 0.050501</td>\n",
        "      <td> 104.050008</td>\n",
        "    </tr>\n",
        "    <tr>\n",
        "      <th>3</th>\n",
        "      <td> ackledu01</td>\n",
        "      <td> 2011</td>\n",
        "      <td> 2013</td>\n",
        "      <td>-0.009270</td>\n",
        "      <td>-0.016605</td>\n",
        "      <td>-0.001974</td>\n",
        "      <td>-0.015274</td>\n",
        "      <td> 0.001597</td>\n",
        "      <td>  53.806003</td>\n",
        "    </tr>\n",
        "    <tr>\n",
        "      <th>4</th>\n",
        "      <td> adairje01</td>\n",
        "      <td> 1958</td>\n",
        "      <td> 1970</td>\n",
        "      <td> 0.011933</td>\n",
        "      <td> 0.003286</td>\n",
        "      <td>-0.002139</td>\n",
        "      <td>-0.012934</td>\n",
        "      <td>-0.037229</td>\n",
        "      <td>  56.395050</td>\n",
        "    </tr>\n",
        "  </tbody>\n",
        "</table>\n",
        "</div>"
       ],
       "metadata": {},
       "output_type": "pyout",
       "prompt_number": 16,
       "text": [
        "    playerID minYear maxYear        1B        2B        3B        HR  \\\n",
        "0  aaronha01    1954    1976 -0.007157  0.006539 -0.000270  0.027850   \n",
        "1  abramca01    1949    1956  0.013463 -0.023915  0.002384  0.003842   \n",
        "2  abreubo01    1996    2012 -0.008202  0.006421  0.001002 -0.003252   \n",
        "3  ackledu01    2011    2013 -0.009270 -0.016605 -0.001974 -0.015274   \n",
        "4  adairje01    1958    1970  0.011933  0.003286 -0.002139 -0.012934   \n",
        "\n",
        "         BB         OPW  \n",
        "0  0.009447  108.696139  \n",
        "1  0.019455   92.575472  \n",
        "2  0.050501  104.050008  \n",
        "3  0.001597   53.806003  \n",
        "4 -0.037229   56.395050  "
       ]
      }
     ],
     "prompt_number": 16
    },
    {
     "cell_type": "markdown",
     "metadata": {},
     "source": [
      "#### Problem 1(j)\n",
      "\n",
      "Add four columns to the `playerLS` DataFrame that contains the player's position (C, 1B, 2B, 3B, SS, LF, CF, RF, or OF), first name, last name and median salary. "
     ]
    },
    {
     "cell_type": "code",
     "collapsed": false,
     "input": [
      "playerLS = playerLS.merge(medianSalaries, on='playerID', how='inner')\n",
      "\n",
      "# A player can play in several positions in his career. We choose the one he most often played in\n",
      "from collections import Counter\n",
      "\n",
      "playerlist = playerstats['playerID']\n",
      "\n",
      "positions = fielding[fielding['playerID'].isin(playerlist)].groupby('playerID')['POS'].apply(lambda x: Counter(x.values).most_common(1)[0][0])\n",
      "posDF = pd.DataFrame(positions, columns=[\"POS\"])\n",
      "\n",
      "playerLS = playerLS.merge(posDF, how='inner', left_on='playerID', right_index=True)\n",
      "\n"
     ],
     "language": "python",
     "metadata": {},
     "outputs": [],
     "prompt_number": 17
    },
    {
     "cell_type": "markdown",
     "metadata": {},
     "source": [
      "Show the head of the `playerLS` DataFrame. "
     ]
    },
    {
     "cell_type": "code",
     "collapsed": false,
     "input": [
      "playerLS.head()\n"
     ],
     "language": "python",
     "metadata": {},
     "outputs": [
      {
       "html": [
        "<div style=\"max-height:1000px;max-width:1500px;overflow:auto;\">\n",
        "<table border=\"1\" class=\"dataframe\">\n",
        "  <thead>\n",
        "    <tr style=\"text-align: right;\">\n",
        "      <th></th>\n",
        "      <th>playerID</th>\n",
        "      <th>minYear</th>\n",
        "      <th>maxYear</th>\n",
        "      <th>1B</th>\n",
        "      <th>2B</th>\n",
        "      <th>3B</th>\n",
        "      <th>HR</th>\n",
        "      <th>BB</th>\n",
        "      <th>OPW</th>\n",
        "      <th>nameFirst</th>\n",
        "      <th>nameLast</th>\n",
        "      <th>salary</th>\n",
        "      <th>POS</th>\n",
        "    </tr>\n",
        "  </thead>\n",
        "  <tbody>\n",
        "    <tr>\n",
        "      <th>0</th>\n",
        "      <td> abreubo01</td>\n",
        "      <td> 1996</td>\n",
        "      <td> 2012</td>\n",
        "      <td>-0.008202</td>\n",
        "      <td> 0.006421</td>\n",
        "      <td> 0.001002</td>\n",
        "      <td>-0.003252</td>\n",
        "      <td> 0.050501</td>\n",
        "      <td> 104.050008</td>\n",
        "      <td>   Bobby</td>\n",
        "      <td>   Abreu</td>\n",
        "      <td> 9000000</td>\n",
        "      <td> RF</td>\n",
        "    </tr>\n",
        "    <tr>\n",
        "      <th>1</th>\n",
        "      <td> ackledu01</td>\n",
        "      <td> 2011</td>\n",
        "      <td> 2013</td>\n",
        "      <td>-0.009270</td>\n",
        "      <td>-0.016605</td>\n",
        "      <td>-0.001974</td>\n",
        "      <td>-0.015274</td>\n",
        "      <td> 0.001597</td>\n",
        "      <td>  53.806003</td>\n",
        "      <td>  Dustin</td>\n",
        "      <td>  Ackley</td>\n",
        "      <td> 2400000</td>\n",
        "      <td> 1B</td>\n",
        "    </tr>\n",
        "    <tr>\n",
        "      <th>2</th>\n",
        "      <td> adamsru01</td>\n",
        "      <td> 2004</td>\n",
        "      <td> 2009</td>\n",
        "      <td>-0.007867</td>\n",
        "      <td>-0.001289</td>\n",
        "      <td> 0.004160</td>\n",
        "      <td>-0.017533</td>\n",
        "      <td> 0.002672</td>\n",
        "      <td>  67.496507</td>\n",
        "      <td>    Russ</td>\n",
        "      <td>   Adams</td>\n",
        "      <td>  329500</td>\n",
        "      <td> SS</td>\n",
        "    </tr>\n",
        "    <tr>\n",
        "      <th>3</th>\n",
        "      <td> alfoned01</td>\n",
        "      <td> 1995</td>\n",
        "      <td> 2006</td>\n",
        "      <td> 0.013485</td>\n",
        "      <td>-0.002177</td>\n",
        "      <td>-0.003239</td>\n",
        "      <td>-0.006436</td>\n",
        "      <td> 0.010745</td>\n",
        "      <td>  83.404437</td>\n",
        "      <td> Edgardo</td>\n",
        "      <td> Alfonzo</td>\n",
        "      <td> 4112500</td>\n",
        "      <td> 2B</td>\n",
        "    </tr>\n",
        "    <tr>\n",
        "      <th>4</th>\n",
        "      <td> alicelu01</td>\n",
        "      <td> 1988</td>\n",
        "      <td> 2002</td>\n",
        "      <td> 0.035625</td>\n",
        "      <td>-0.009597</td>\n",
        "      <td> 0.007988</td>\n",
        "      <td>-0.026156</td>\n",
        "      <td>-0.006580</td>\n",
        "      <td>  78.561778</td>\n",
        "      <td>    Luis</td>\n",
        "      <td>  Alicea</td>\n",
        "      <td>  750000</td>\n",
        "      <td> 2B</td>\n",
        "    </tr>\n",
        "  </tbody>\n",
        "</table>\n",
        "</div>"
       ],
       "metadata": {},
       "output_type": "pyout",
       "prompt_number": 18,
       "text": [
        "    playerID minYear maxYear        1B        2B        3B        HR  \\\n",
        "0  abreubo01    1996    2012 -0.008202  0.006421  0.001002 -0.003252   \n",
        "1  ackledu01    2011    2013 -0.009270 -0.016605 -0.001974 -0.015274   \n",
        "2  adamsru01    2004    2009 -0.007867 -0.001289  0.004160 -0.017533   \n",
        "3  alfoned01    1995    2006  0.013485 -0.002177 -0.003239 -0.006436   \n",
        "4  alicelu01    1988    2002  0.035625 -0.009597  0.007988 -0.026156   \n",
        "\n",
        "         BB         OPW nameFirst nameLast   salary POS  \n",
        "0  0.050501  104.050008     Bobby    Abreu  9000000  RF  \n",
        "1  0.001597   53.806003    Dustin   Ackley  2400000  1B  \n",
        "2  0.002672   67.496507      Russ    Adams   329500  SS  \n",
        "3  0.010745   83.404437   Edgardo  Alfonzo  4112500  2B  \n",
        "4 -0.006580   78.561778      Luis   Alicea   750000  2B  "
       ]
      }
     ],
     "prompt_number": 18
    },
    {
     "cell_type": "markdown",
     "metadata": {},
     "source": [
      "#### Problem 1(k)\n",
      "\n",
      "Subset the `playerLS` DataFrame for players active in 2002 and 2003 and played at least three years. Plot and describe the relationship bewteen the median salary (in millions) and the predicted number of wins. "
     ]
    },
    {
     "cell_type": "code",
     "collapsed": false,
     "input": [
      "active = playerLS[(playerLS['minYear'].astype(int) <= 2002) & \\\n",
      "                       (playerLS['maxYear'].astype(int) >= 2003) & \\\n",
      "                       (playerLS['maxYear'].astype(int) - playerLS['minYear'].astype(int) >=3)]\n",
      "\n",
      "fig = plt.figure()\n",
      "ax = fig.gca()\n",
      "ax.scatter(active.salary/10**6, active.OPW, alpha=0.5, c='red')\n",
      "ax.set_xscale('log')\n",
      "ax.set_xlabel('Salary (in Millions) on log')\n",
      "ax.set_ylabel('OPW')\n",
      "ax.set_title('Relationship between Salary and Predicted Number of Wins')\n",
      "plt.show()"
     ],
     "language": "python",
     "metadata": {},
     "outputs": [
      {
       "metadata": {},
       "output_type": "display_data",
       "png": "[encoded data removed]",
       "text": [
        "<matplotlib.figure.Figure at 0x7ffbaf4c5d50>"
       ]
      }
     ],
     "prompt_number": 19
    },
    {
     "cell_type": "markdown",
     "metadata": {},
     "source": [
      "#### Problem 1(l)\n",
      "Pick one players from one of each of these 10 position C, 1B, 2B, 3B, SS, LF, CF, RF, DH, or OF keeping the total median salary of all 10 players below 20 million. Report their averaged predicted wins and total salary."
     ]
    },
    {
     "cell_type": "code",
     "collapsed": false,
     "input": [
      "\n"
     ],
     "language": "python",
     "metadata": {},
     "outputs": [],
     "prompt_number": 19
    },
    {
     "cell_type": "markdown",
     "metadata": {},
     "source": [
      "#### Problem 1(m)\n",
      "What do these players outperform in? Singles, doubles, triples HR or BB?"
     ]
    },
    {
     "cell_type": "code",
     "collapsed": false,
     "input": [
      "### Your code here ###"
     ],
     "language": "python",
     "metadata": {},
     "outputs": [],
     "prompt_number": 20
    },
    {
     "cell_type": "markdown",
     "metadata": {},
     "source": [
      "** Your answer here: **"
     ]
    },
    {
     "cell_type": "markdown",
     "metadata": {},
     "source": [
      "## Discussion for Problem 1\n",
      "\n",
      "*Write a brief discussion of your conclusions to the questions and tasks above in 100 words or less.*\n",
      "\n",
      "---"
     ]
    },
    {
     "cell_type": "markdown",
     "metadata": {},
     "source": [
      "# Problem 2:  $k$-Nearest Neighbors and Cross Validation \n",
      "\n",
      "What is the optimal $k$ for predicting species using $k$-nearest neighbor classification \n",
      "on the four features provided by the iris dataset.\n",
      "\n",
      "In this problem you will get to know the famous iris data set, and use cross validation to select the optimal $k$ for a $k$-nearest neighbor classification. This problem set makes heavy use of the [sklearn](http://scikit-learn.org/stable/) library. In addition to Pandas, it is one of the most useful libraries for data scientists! After completing this homework assignment you will know all the basics to get started with your own machine learning projects in sklearn. \n",
      "\n",
      "Future lectures will give further background information on different classifiers and their specific strengths and weaknesses, but when you have the basics for sklearn down, changing the classifier will boil down to exchanging one to two lines of code.\n",
      "\n",
      "The data set is so popular, that sklearn provides an extra function to load it:"
     ]
    },
    {
     "cell_type": "code",
     "collapsed": false,
     "input": [
      "#load the iris data set\n",
      "iris = sklearn.datasets.load_iris()\n",
      "\n",
      "X = iris.data  \n",
      "Y = iris.target\n",
      "\n",
      "print X.shape, Y.shape"
     ],
     "language": "python",
     "metadata": {},
     "outputs": [
      {
       "output_type": "stream",
       "stream": "stdout",
       "text": [
        "(150, 4) (150,)\n"
       ]
      }
     ],
     "prompt_number": 4
    },
    {
     "cell_type": "markdown",
     "metadata": {},
     "source": [
      "#### Problem 2(a) \n",
      "Split the data into a train and a test set. Use a random selection of 33% of the samples as test data. Sklearn provides the [`train_test_split`](http://scikit-learn.org/stable/modules/generated/sklearn.cross_validation.train_test_split.html) function for this purpose. Print the dimensions of all the train and test data sets you have created. "
     ]
    },
    {
     "cell_type": "code",
     "collapsed": false,
     "input": [
      "X_train, X_test, Y_train, Y_test = sklearn.cross_validation.train_test_split(X, Y, test_size=0.33)\n",
      "\n",
      "print X_train.shape\n",
      "print X_test.shape\n",
      "print Y_train.shape\n",
      "print Y_test.shape"
     ],
     "language": "python",
     "metadata": {},
     "outputs": [
      {
       "output_type": "stream",
       "stream": "stdout",
       "text": [
        "(100, 4)\n",
        "(50, 4)\n",
        "(100,)\n",
        "(50,)\n"
       ]
      }
     ],
     "prompt_number": 9
    },
    {
     "cell_type": "markdown",
     "metadata": {},
     "source": [
      "#### Problem 2(b)\n",
      "\n",
      "Examine the data further by looking at the projections to the first two principal components of the data. Use the [`TruncatedSVD`](http://scikit-learn.org/stable/modules/generated/sklearn.decomposition.TruncatedSVD.html) function for this purpose, and create a scatter plot. Use the colors on the scatter plot to represent the different classes in the target data. "
     ]
    },
    {
     "cell_type": "code",
     "collapsed": false,
     "input": [
      "import itertools\n",
      "\n",
      "svd = sklearn.decomposition.TruncatedSVD(n_components=2)\n",
      "X_train_centered = X_train - np.mean(X_train, axis=0)\n",
      "\n",
      "# X_train projected onto the 2 first PCs. Shape(100,2)\n",
      "X_train_reduced = svd.fit_transform(X_train_centered)\n",
      "\n",
      "colors = ['r','g','b']\n",
      "\n",
      "plt.scatter(X_train_reduced[:,0], X_train_reduced[:,1], c=map(lambda x: colors[x], Y_train), s=50)\n",
      "plt.xlabel('PC1')\n",
      "plt.ylabel('PC2')\n",
      "plt.show()"
     ],
     "language": "python",
     "metadata": {},
     "outputs": [
      {
       "metadata": {},
       "output_type": "display_data",
       "png": "[encoded data removed]",
       "text": [
        "<matplotlib.figure.Figure at 0x1107b2250>"
       ]
      }
     ],
     "prompt_number": 10
    },
    {
     "cell_type": "markdown",
     "metadata": {},
     "source": [
      "#### Problem 2(c) \n",
      "\n",
      "In the lecture we discussed how to use cross validation to estimate the optimal value for $k$ (the number of nearest neighbors to base the classification on). Use ***ten fold cross validation*** to estimate the optimal value for $k$ for the iris data set. \n",
      "\n",
      "**Note**: For your convenience sklearn does not only include the [KNN classifier](http://scikit-learn.org/stable/modules/generated/sklearn.neighbors.KNeighborsClassifier.html), but also a [grid search function](http://scikit-learn.org/stable/modules/generated/sklearn.grid_search.GridSearchCV.html#sklearn.grid_search.GridSearchCV). The function is called grid search, because if you have to optimize more than one parameter, it is common practice to define a range of possible values for each parameter. An exhaustive search then runs over the complete grid defined by all the possible parameter combinations. This can get very computation heavy, but luckily our KNN classifier only requires tuning of a single parameter for this problem set. "
     ]
    },
    {
     "cell_type": "code",
     "collapsed": false,
     "input": [
      "knn = sklearn.neighbors.KNeighborsClassifier(weights = 'uniform')\n",
      "k_values = np.arange(1,26)\n",
      "\n",
      "gsknn = sklearn.grid_search.GridSearchCV(knn, {'n_neighbors': k_values}, cv=10)\n",
      "\n",
      "scores = gsknn.fit(X_train,Y_train)"
     ],
     "language": "python",
     "metadata": {},
     "outputs": [],
     "prompt_number": 11
    },
    {
     "cell_type": "markdown",
     "metadata": {},
     "source": [
      "#### Problem 2(d)\n",
      "\n",
      "Visualize the result by plotting the score results versus values for $k$. "
     ]
    },
    {
     "cell_type": "code",
     "collapsed": false,
     "input": [
      "### Your code here ###"
     ],
     "language": "python",
     "metadata": {},
     "outputs": [],
     "prompt_number": 25
    },
    {
     "cell_type": "markdown",
     "metadata": {},
     "source": [
      "Verify that the grid search has indeed chosen the right parameter value for $k$."
     ]
    },
    {
     "cell_type": "code",
     "collapsed": false,
     "input": [
      "### Your code here ###"
     ],
     "language": "python",
     "metadata": {},
     "outputs": [],
     "prompt_number": 26
    },
    {
     "cell_type": "markdown",
     "metadata": {},
     "source": [
      "#### Problem 2(e)\n",
      "\n",
      "Test the performance of our tuned KNN classifier on the test set."
     ]
    },
    {
     "cell_type": "code",
     "collapsed": false,
     "input": [
      "### Your code here ###"
     ],
     "language": "python",
     "metadata": {},
     "outputs": [],
     "prompt_number": 27
    },
    {
     "cell_type": "markdown",
     "metadata": {},
     "source": [
      "## Discussion for Problem 2\n",
      "\n",
      "*Write a brief discussion of your conclusions to the questions and tasks above in 100 words or less.*\n",
      "\n",
      "---"
     ]
    },
    {
     "cell_type": "markdown",
     "metadata": {},
     "source": [
      "# Problem 3: The Curse and Blessing of Higher Dimensions\n",
      "\n",
      "In this problem we will investigate the influence of higher dimensional spaces on the classification. The data set is again one of the standard data sets from sklearn. The [digits data set](http://scikit-learn.org/stable/modules/generated/sklearn.datasets.load_digits.html) is similar to the MNIST data set discussed in the lecture. The main difference is, that each digit is represented by an 8x8 pixel image patch, which is considerably smaller than the 28x28 pixels from MNIST. In addition, the gray values are restricted to 16 different values (4 bit), instead of 256 (8 bit) for MNIST. \n",
      "\n",
      "First we again load our data set."
     ]
    },
    {
     "cell_type": "code",
     "collapsed": false,
     "input": [
      "digits = sklearn.datasets.load_digits()\n",
      "\n",
      "X = digits.data  \n",
      "Y = digits.target\n",
      "\n",
      "print X.shape, Y.shape"
     ],
     "language": "python",
     "metadata": {},
     "outputs": [
      {
       "output_type": "stream",
       "stream": "stdout",
       "text": [
        "(1797, 64) (1797,)\n"
       ]
      }
     ],
     "prompt_number": 28
    },
    {
     "cell_type": "markdown",
     "metadata": {},
     "source": [
      "#### Problem 3(a) \n",
      "\n",
      "Start with the same steps as in Problem 2. Split the data into train and test set. Use 33% of the samples as test data. Print the dimensions of all the train and test data sets you created. "
     ]
    },
    {
     "cell_type": "code",
     "collapsed": false,
     "input": [
      "### Your code here ###"
     ],
     "language": "python",
     "metadata": {},
     "outputs": [],
     "prompt_number": 29
    },
    {
     "cell_type": "markdown",
     "metadata": {},
     "source": [
      "#### Problem 3(b) \n",
      "\n",
      "Similar to Problem 2(b), create a scatter plot of the projections to the first two PCs.  Use the colors on the scatter plot to represent the different classes in the target data. How well can we separate the classes?\n",
      "\n",
      "**Hint**: Use a `Colormap` in matplotlib to represent the diferent classes in the target data. "
     ]
    },
    {
     "cell_type": "code",
     "collapsed": false,
     "input": [
      "### Your code here ###"
     ],
     "language": "python",
     "metadata": {},
     "outputs": [],
     "prompt_number": 30
    },
    {
     "cell_type": "markdown",
     "metadata": {},
     "source": [
      "Create individual scatter plots using only two classes at a time to explore which classes are most difficult to distinguish in terms of class separability.  You do not need to create scatter plots for all pairwise comparisons, but at least show one. "
     ]
    },
    {
     "cell_type": "code",
     "collapsed": false,
     "input": [
      "### Your code here ###"
     ],
     "language": "python",
     "metadata": {},
     "outputs": [],
     "prompt_number": 31
    },
    {
     "cell_type": "markdown",
     "metadata": {},
     "source": [
      "Give a brief interpretation of the scatter plot. Which classes look like hard to distinguish? Do both feature dimensions contribute to the class separability? "
     ]
    },
    {
     "cell_type": "markdown",
     "metadata": {},
     "source": [
      "** Your answer here: **"
     ]
    },
    {
     "cell_type": "markdown",
     "metadata": {},
     "source": [
      "#### Problem 3(c) \n",
      "\n",
      "Write a **ten-fold cross validation** to estimate the optimal value for $k$ for the digits data set. *However*, this time we are interested in the influence of the number of dimensions we project the data down as well. \n",
      "\n",
      "Extend the cross validation as done for the iris data set, to optimize $k$ for different dimensional projections of the data. Create a boxplot showing test scores for the optimal $k$ for each $d$-dimensional subspace with $d$ ranging from one to ten. The plot should have the scores on the y-axis and the different dimensions $d$ on the x-axis. You can use your favorite plot function for the boxplots. [Seaborn](http://web.stanford.edu/~mwaskom/software/seaborn/index.html) is worth having a look at though. It is a great library for statistical visualization and of course also comes with a [`boxplot`](http://web.stanford.edu/~mwaskom/software/seaborn/generated/seaborn.boxplot.html) function that has simple means for changing the labels on the x-axis."
     ]
    },
    {
     "cell_type": "code",
     "collapsed": false,
     "input": [
      "### Your cross validation and evaluation code here ###"
     ],
     "language": "python",
     "metadata": {},
     "outputs": [],
     "prompt_number": 32
    },
    {
     "cell_type": "code",
     "collapsed": false,
     "input": [
      "### Your boxplot code here ### "
     ],
     "language": "python",
     "metadata": {},
     "outputs": [],
     "prompt_number": 33
    },
    {
     "cell_type": "markdown",
     "metadata": {},
     "source": [
      "Write a short interpretation of the generated plot, answering the following questions:\n",
      "\n",
      "* What trend do you see in the plot for increasing dimensions?\n",
      "\n",
      "* Why do you think this is happening?"
     ]
    },
    {
     "cell_type": "markdown",
     "metadata": {},
     "source": [
      "** Your answer here: **"
     ]
    },
    {
     "cell_type": "markdown",
     "metadata": {},
     "source": [
      "#### Problem 3(d) \n",
      "\n",
      "**For AC209 Students**: Change the boxplot we generated above to also show the optimal value for $k$ chosen by the cross validation grid search. "
     ]
    },
    {
     "cell_type": "code",
     "collapsed": false,
     "input": [
      "### Your code here ### "
     ],
     "language": "python",
     "metadata": {},
     "outputs": [],
     "prompt_number": 34
    },
    {
     "cell_type": "markdown",
     "metadata": {},
     "source": [
      "Write a short interpretation answering the following questions:\n",
      "\n",
      "* Which trend do you observe for the optimal value of $k$?\n",
      "\n",
      "* Why do you think this is happening?"
     ]
    },
    {
     "cell_type": "markdown",
     "metadata": {},
     "source": [
      "** Your answer here: **"
     ]
    },
    {
     "cell_type": "markdown",
     "metadata": {},
     "source": [
      "## Discussion for Problem 3\n",
      "\n",
      "*Write a brief discussion of your conclusions to the questions and tasks above in 100 words or less.*\n",
      "\n",
      "---"
     ]
    },
    {
     "cell_type": "markdown",
     "metadata": {},
     "source": [
      "# Submission Instructions\n",
      "\n",
      "To submit your homework, create a folder named **lastname_firstinitial_hw#** and place your IPython notebooks, data files, and any other files in this folder. Your IPython Notebooks should be completely executed with the results visible in the notebook. We should not have to run any code.  Compress the folder (please use .zip compression) and submit to the CS109 dropbox in the appropriate folder. *If we cannot access your work because these directions are not followed correctly, we will not grade your work.*\n"
     ]
    },
    {
     "cell_type": "code",
     "collapsed": false,
     "input": [],
     "language": "python",
     "metadata": {},
     "outputs": [],
     "prompt_number": 34
    }
   ],
   "metadata": {}
  }
 ]
}