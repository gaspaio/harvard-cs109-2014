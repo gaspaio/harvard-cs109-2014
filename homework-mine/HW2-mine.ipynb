{
 "metadata": {
  "name": "",
  "signature": "sha256:d8e6b44301793b789188c82ecd2858dbfdcf542afbe606ec0846562f12a2a273"
 },
 "nbformat": 3,
 "nbformat_minor": 0,
 "worksheets": [
  {
   "cells": [
    {
     "cell_type": "markdown",
     "metadata": {},
     "source": [
      "# Homework 2: More Exploratory Data Analysis\n",
      "## Gene Expression Data and Election Polls \n",
      "\n",
      "Due: Thursday, October 2, 2014 11:59 PM\n",
      "\n",
      "<a href=https://raw.githubusercontent.com/cs109/2014/master/homework/HW2.ipynb download=HW2.ipynb> Download this assignment</a>\n",
      "\n",
      "#### Submission Instructions\n",
      "To submit your homework, create a folder named lastname_firstinitial_hw# and place your IPython notebooks, data files, and any other files in this folder. Your IPython Notebooks should be completely executed with the results visible in the notebook. We should not have to run any code. Compress the folder (please use .zip compression) and submit to the CS109 dropbox in the appropriate folder. If we cannot access your work because these directions are not followed correctly, we will not grade your work.\n",
      "\n",
      "\n",
      "---"
     ]
    },
    {
     "cell_type": "markdown",
     "metadata": {},
     "source": [
      "## Introduction\n",
      "\n",
      "John Tukey wrote in [Exploratory Data Analysis, 1977](http://www.amazon.com/Exploratory-Data-Analysis-Wilder-Tukey/dp/0201076160/ref=pd_bbs_sr_2/103-4466654-5303007?ie=UTF8&s=books&qid=1189739816&sr=8-2): \"The greatest value of a picture is when it forces us to notice what we never expected to see.\" In this assignment we will continue using our exploratory data analysis tools, but apply it to new sets of data: [gene expression](http://en.wikipedia.org/wiki/Gene_expression) and polls from the [2012 Presidental Election](http://en.wikipedia.org/wiki/United_States_presidential_election,_2012) and from the [2014 Senate Midterm Elections](http://en.wikipedia.org/wiki/United_States_Senate_elections,_2014).   \n",
      "\n",
      "**First**: You will use exploratory data analysis and apply the [singular value decomposition](http://en.wikipedia.org/wiki/Singular_value_decomposition) (SVD) to a gene expression data matrix to determine if the the date that the gene expression samples are processed has large effect on the variability seen in the data.  \n",
      "\n",
      "**Second**: You will use the polls from the 2012 Presidential Elections to determine (1) Is there a pollster bias in presidential election polls? and (2) Is the average of polls better than just one poll?\n",
      "\n",
      "**Finally**: You will use the [HuffPost Pollster API](http://elections.huffingtonpost.com/pollster/api) to extract the polls for the current 2014 Senate Midterm Elections and provide a preliminary prediction of the result of each state.\n",
      "\n",
      "#### Data\n",
      "\n",
      "We will use the following data sets: \n",
      "\n",
      "1. A gene expression data set called `exprs_GSE5859.csv` and sample annotation table called `sampleinfo_GSE5859.csv` which are both available on Github in the 2014_data repository: [expression data set](https://github.com/cs109/2014_data/blob/master/exprs_GSE5859.csv) and [sample annotation table](https://github.com/cs109/2014_data/blob/master/sampleinfo_GSE5859.csv).  \n",
      "\n",
      "2. Polls from the [2012 Presidential Election: Barack Obama vs Mitt Romney](http://elections.huffingtonpost.com/pollster/2012-general-election-romney-vs-obama). The polls we will use are from the [Huffington Post Pollster](http://elections.huffingtonpost.com/pollster).  \n",
      "\n",
      "3. Polls from the [2014 Senate Midterm Elections](http://elections.huffingtonpost.com/pollster) from the [HuffPost Pollster API](http://elections.huffingtonpost.com/pollster/api). \n",
      "\n",
      "---"
     ]
    },
    {
     "cell_type": "markdown",
     "metadata": {},
     "source": [
      "## Load Python modules"
     ]
    },
    {
     "cell_type": "code",
     "collapsed": false,
     "input": [
      "# special IPython command to prepare the notebook for matplotlib\n",
      "%matplotlib inline \n",
      "\n",
      "import requests \n",
      "from StringIO import StringIO\n",
      "import numpy as np\n",
      "import pandas as pd # pandas\n",
      "import matplotlib.pyplot as plt # module for plotting \n",
      "import datetime as dt # module for manipulating dates and times\n",
      "import numpy.linalg as lin # module for performing linear algebra operations"
     ],
     "language": "python",
     "metadata": {},
     "outputs": [],
     "prompt_number": 1
    },
    {
     "cell_type": "markdown",
     "metadata": {},
     "source": [
      "## Problem 1\n",
      "\n",
      "In this problem we will be using a [gene expression](http://en.wikipedia.org/wiki/Gene_expression) data set obtained from a [microarray](http://en.wikipedia.org/wiki/DNA_microarray) experiement [Read more about the specific experiment here](http://www.ncbi.nlm.nih.gov/geo/query/acc.cgi?acc=GSE5859).  There are two data sets we will use:  \n",
      "\n",
      "1. The gene expression intensities where the rows represent the features on the microarray (e.g. genes) and the columsns represent the different microarray samples.  \n",
      "\n",
      "2. A table that contains the information about each of the samples (columns in the gene expression data set) such as the sex, the age, the treatment status, the date the samples were processed.  Each row represents one sample. "
     ]
    },
    {
     "cell_type": "markdown",
     "metadata": {},
     "source": [
      "#### Problem 1(a) \n",
      "Read in the two files from Github: [exprs_GSE5859.csv](https://github.com/cs109/2014_data/blob/master/exprs_GSE5859.csv) and [sampleinfo_GSE5859.csv](https://github.com/cs109/2014_data/blob/master/sampleinfo_GSE5859.csv) as pandas DataFrames called `exprs` and `sampleinfo`. Use the gene names as the index of the `exprs` DataFrame."
     ]
    },
    {
     "cell_type": "code",
     "collapsed": false,
     "input": [
      "f = StringIO(requests.get(\"https://raw.githubusercontent.com/cs109/2014_data/master/exprs_GSE5859.csv\").content)\n",
      "exprs = pd.read_csv(f, index_col=0)\n",
      "\n",
      "f = StringIO(requests.get(\"https://raw.githubusercontent.com/cs109/2014_data/master/sampleinfo_GSE5859.csv\").content)\n",
      "sampleinfo = pd.read_csv(f)"
     ],
     "language": "python",
     "metadata": {},
     "outputs": [],
     "prompt_number": 2
    },
    {
     "cell_type": "markdown",
     "metadata": {},
     "source": [
      "Make sure the order of the columns in the gene expression DataFrame match the order of file names in the sample annotation DataFrame. If the order of the columns the `exprs` DataFrame do not match the order of the file names in the `sampleinfo` DataFrame, reorder the columns in the `exprs` DataFrame. \n",
      "\n",
      "**Note**: The column names of the gene expression DataFrame are the filenames of the orignal files from which these data were obtained.  \n",
      "\n",
      "**Hint**: The method `list.index(x)` [[read here](https://docs.python.org/2/tutorial/datastructures.html)] can be used to return the index in the list of the first item whose value is x. It is an error if there is no such item. To check if the order of the columns in `exprs` matches the order of the rows in `sampleinfo`, you can check using the method `.all()` on a Boolean or list of Booleans: \n",
      "\n",
      "Example code: `(exprs.columns == sampleinfo.filename).all()`"
     ]
    },
    {
     "cell_type": "code",
     "collapsed": false,
     "input": [
      "if not (exprs.columns == sampleinfo.filename).all():\n",
      "    # Use sampleinfo filename ordering as column order in exprs\n",
      "    exprs = exprs.reindex_axis(sampleinfo[\"filename\"].values, axis=1)"
     ],
     "language": "python",
     "metadata": {},
     "outputs": [],
     "prompt_number": 3
    },
    {
     "cell_type": "markdown",
     "metadata": {},
     "source": [
      "Show the head of the two tables: `exprs` and `sampleinfo`. "
     ]
    },
    {
     "cell_type": "code",
     "collapsed": false,
     "input": [
      "exprs.head()"
     ],
     "language": "python",
     "metadata": {},
     "outputs": [
      {
       "html": [
        "<div style=\"max-height:1000px;max-width:1500px;overflow:auto;\">\n",
        "<table border=\"1\" class=\"dataframe\">\n",
        "  <thead>\n",
        "    <tr style=\"text-align: right;\">\n",
        "      <th></th>\n",
        "      <th>GSM25349.CEL.gz</th>\n",
        "      <th>GSM25350.CEL.gz</th>\n",
        "      <th>GSM25356.CEL.gz</th>\n",
        "      <th>GSM25357.CEL.gz</th>\n",
        "      <th>GSM25358.CEL.gz</th>\n",
        "      <th>GSM25359.CEL.gz</th>\n",
        "      <th>GSM25360.CEL.gz</th>\n",
        "      <th>GSM25361.CEL.gz</th>\n",
        "      <th>GSM25377.CEL.gz</th>\n",
        "      <th>GSM25378.CEL.gz</th>\n",
        "      <th>...</th>\n",
        "      <th>GSM136719.CEL.gz</th>\n",
        "      <th>GSM136720.CEL.gz</th>\n",
        "      <th>GSM136721.CEL.gz</th>\n",
        "      <th>GSM136722.CEL.gz</th>\n",
        "      <th>GSM136723.CEL.gz</th>\n",
        "      <th>GSM136724.CEL.gz</th>\n",
        "      <th>GSM136725.CEL.gz</th>\n",
        "      <th>GSM136726.CEL.gz</th>\n",
        "      <th>GSM136727.CEL.gz</th>\n",
        "      <th>GSM136729.CEL.gz</th>\n",
        "    </tr>\n",
        "  </thead>\n",
        "  <tbody>\n",
        "    <tr>\n",
        "      <th>1007_s_at</th>\n",
        "      <td> 6.627014</td>\n",
        "      <td> 6.249807</td>\n",
        "      <td> 5.934128</td>\n",
        "      <td> 6.145268</td>\n",
        "      <td> 6.091270</td>\n",
        "      <td> 6.041186</td>\n",
        "      <td> 6.050375</td>\n",
        "      <td> 6.063847</td>\n",
        "      <td> 6.226106</td>\n",
        "      <td> 6.358282</td>\n",
        "      <td>...</td>\n",
        "      <td> 6.466445</td>\n",
        "      <td> 6.533592</td>\n",
        "      <td> 6.631492</td>\n",
        "      <td> 6.513362</td>\n",
        "      <td> 6.440706</td>\n",
        "      <td> 6.704324</td>\n",
        "      <td> 6.488579</td>\n",
        "      <td> 6.809481</td>\n",
        "      <td> 6.133068</td>\n",
        "      <td> 6.155473</td>\n",
        "    </tr>\n",
        "    <tr>\n",
        "      <th>1053_at</th>\n",
        "      <td> 6.939184</td>\n",
        "      <td> 6.818038</td>\n",
        "      <td> 7.047962</td>\n",
        "      <td> 7.422477</td>\n",
        "      <td> 7.272361</td>\n",
        "      <td> 7.128216</td>\n",
        "      <td> 6.750719</td>\n",
        "      <td> 6.836287</td>\n",
        "      <td> 6.738022</td>\n",
        "      <td> 7.367895</td>\n",
        "      <td>...</td>\n",
        "      <td> 7.032885</td>\n",
        "      <td> 7.156344</td>\n",
        "      <td> 7.018025</td>\n",
        "      <td> 6.973322</td>\n",
        "      <td> 6.884738</td>\n",
        "      <td> 7.120898</td>\n",
        "      <td> 7.517410</td>\n",
        "      <td> 7.200596</td>\n",
        "      <td> 7.280781</td>\n",
        "      <td> 7.111583</td>\n",
        "    </tr>\n",
        "    <tr>\n",
        "      <th>117_at</th>\n",
        "      <td> 5.113570</td>\n",
        "      <td> 5.074096</td>\n",
        "      <td> 5.371201</td>\n",
        "      <td> 5.266550</td>\n",
        "      <td> 5.342047</td>\n",
        "      <td> 5.063876</td>\n",
        "      <td> 5.315898</td>\n",
        "      <td> 5.483652</td>\n",
        "      <td> 6.689444</td>\n",
        "      <td> 6.482782</td>\n",
        "      <td>...</td>\n",
        "      <td> 5.661112</td>\n",
        "      <td> 5.127260</td>\n",
        "      <td> 5.151840</td>\n",
        "      <td> 5.505602</td>\n",
        "      <td> 5.687689</td>\n",
        "      <td> 4.942651</td>\n",
        "      <td> 5.247190</td>\n",
        "      <td> 5.237239</td>\n",
        "      <td> 5.401876</td>\n",
        "      <td> 5.302628</td>\n",
        "    </tr>\n",
        "    <tr>\n",
        "      <th>121_at</th>\n",
        "      <td> 7.833862</td>\n",
        "      <td> 7.780682</td>\n",
        "      <td> 7.458197</td>\n",
        "      <td> 7.655948</td>\n",
        "      <td> 7.546555</td>\n",
        "      <td> 7.072670</td>\n",
        "      <td> 7.092984</td>\n",
        "      <td> 6.954225</td>\n",
        "      <td> 7.489785</td>\n",
        "      <td> 7.388539</td>\n",
        "      <td>...</td>\n",
        "      <td> 7.769734</td>\n",
        "      <td> 7.815864</td>\n",
        "      <td> 7.683279</td>\n",
        "      <td> 7.883231</td>\n",
        "      <td> 7.913621</td>\n",
        "      <td> 7.834196</td>\n",
        "      <td> 7.331864</td>\n",
        "      <td> 7.357102</td>\n",
        "      <td> 7.607461</td>\n",
        "      <td> 7.456453</td>\n",
        "    </tr>\n",
        "    <tr>\n",
        "      <th>1255_g_at</th>\n",
        "      <td> 3.152269</td>\n",
        "      <td> 3.111747</td>\n",
        "      <td> 3.018932</td>\n",
        "      <td> 3.154545</td>\n",
        "      <td> 3.107954</td>\n",
        "      <td> 3.224284</td>\n",
        "      <td> 3.114241</td>\n",
        "      <td> 3.044975</td>\n",
        "      <td> 3.304038</td>\n",
        "      <td> 2.887919</td>\n",
        "      <td>...</td>\n",
        "      <td> 3.257484</td>\n",
        "      <td> 3.339234</td>\n",
        "      <td> 3.298384</td>\n",
        "      <td> 3.150654</td>\n",
        "      <td> 3.344501</td>\n",
        "      <td> 3.230285</td>\n",
        "      <td> 3.175846</td>\n",
        "      <td> 3.105092</td>\n",
        "      <td> 3.225123</td>\n",
        "      <td> 3.090149</td>\n",
        "    </tr>\n",
        "  </tbody>\n",
        "</table>\n",
        "<p>5 rows \u00d7 208 columns</p>\n",
        "</div>"
       ],
       "metadata": {},
       "output_type": "pyout",
       "prompt_number": 4,
       "text": [
        "           GSM25349.CEL.gz  GSM25350.CEL.gz  GSM25356.CEL.gz  GSM25357.CEL.gz  \\\n",
        "1007_s_at         6.627014         6.249807         5.934128         6.145268   \n",
        "1053_at           6.939184         6.818038         7.047962         7.422477   \n",
        "117_at            5.113570         5.074096         5.371201         5.266550   \n",
        "121_at            7.833862         7.780682         7.458197         7.655948   \n",
        "1255_g_at         3.152269         3.111747         3.018932         3.154545   \n",
        "\n",
        "           GSM25358.CEL.gz  GSM25359.CEL.gz  GSM25360.CEL.gz  GSM25361.CEL.gz  \\\n",
        "1007_s_at         6.091270         6.041186         6.050375         6.063847   \n",
        "1053_at           7.272361         7.128216         6.750719         6.836287   \n",
        "117_at            5.342047         5.063876         5.315898         5.483652   \n",
        "121_at            7.546555         7.072670         7.092984         6.954225   \n",
        "1255_g_at         3.107954         3.224284         3.114241         3.044975   \n",
        "\n",
        "           GSM25377.CEL.gz  GSM25378.CEL.gz        ...         \\\n",
        "1007_s_at         6.226106         6.358282        ...          \n",
        "1053_at           6.738022         7.367895        ...          \n",
        "117_at            6.689444         6.482782        ...          \n",
        "121_at            7.489785         7.388539        ...          \n",
        "1255_g_at         3.304038         2.887919        ...          \n",
        "\n",
        "           GSM136719.CEL.gz  GSM136720.CEL.gz  GSM136721.CEL.gz  \\\n",
        "1007_s_at          6.466445          6.533592          6.631492   \n",
        "1053_at            7.032885          7.156344          7.018025   \n",
        "117_at             5.661112          5.127260          5.151840   \n",
        "121_at             7.769734          7.815864          7.683279   \n",
        "1255_g_at          3.257484          3.339234          3.298384   \n",
        "\n",
        "           GSM136722.CEL.gz  GSM136723.CEL.gz  GSM136724.CEL.gz  \\\n",
        "1007_s_at          6.513362          6.440706          6.704324   \n",
        "1053_at            6.973322          6.884738          7.120898   \n",
        "117_at             5.505602          5.687689          4.942651   \n",
        "121_at             7.883231          7.913621          7.834196   \n",
        "1255_g_at          3.150654          3.344501          3.230285   \n",
        "\n",
        "           GSM136725.CEL.gz  GSM136726.CEL.gz  GSM136727.CEL.gz  \\\n",
        "1007_s_at          6.488579          6.809481          6.133068   \n",
        "1053_at            7.517410          7.200596          7.280781   \n",
        "117_at             5.247190          5.237239          5.401876   \n",
        "121_at             7.331864          7.357102          7.607461   \n",
        "1255_g_at          3.175846          3.105092          3.225123   \n",
        "\n",
        "           GSM136729.CEL.gz  \n",
        "1007_s_at          6.155473  \n",
        "1053_at            7.111583  \n",
        "117_at             5.302628  \n",
        "121_at             7.456453  \n",
        "1255_g_at          3.090149  \n",
        "\n",
        "[5 rows x 208 columns]"
       ]
      }
     ],
     "prompt_number": 4
    },
    {
     "cell_type": "code",
     "collapsed": false,
     "input": [
      "sampleinfo.head()"
     ],
     "language": "python",
     "metadata": {},
     "outputs": [
      {
       "html": [
        "<div style=\"max-height:1000px;max-width:1500px;overflow:auto;\">\n",
        "<table border=\"1\" class=\"dataframe\">\n",
        "  <thead>\n",
        "    <tr style=\"text-align: right;\">\n",
        "      <th></th>\n",
        "      <th>ethnicity</th>\n",
        "      <th>date</th>\n",
        "      <th>filename</th>\n",
        "      <th>sex</th>\n",
        "    </tr>\n",
        "  </thead>\n",
        "  <tbody>\n",
        "    <tr>\n",
        "      <th>0</th>\n",
        "      <td> CEU</td>\n",
        "      <td> 2003-02-04</td>\n",
        "      <td> GSM25349.CEL.gz</td>\n",
        "      <td> M</td>\n",
        "    </tr>\n",
        "    <tr>\n",
        "      <th>1</th>\n",
        "      <td> CEU</td>\n",
        "      <td> 2003-02-04</td>\n",
        "      <td> GSM25350.CEL.gz</td>\n",
        "      <td> M</td>\n",
        "    </tr>\n",
        "    <tr>\n",
        "      <th>2</th>\n",
        "      <td> CEU</td>\n",
        "      <td> 2002-12-17</td>\n",
        "      <td> GSM25356.CEL.gz</td>\n",
        "      <td> M</td>\n",
        "    </tr>\n",
        "    <tr>\n",
        "      <th>3</th>\n",
        "      <td> CEU</td>\n",
        "      <td> 2003-01-30</td>\n",
        "      <td> GSM25357.CEL.gz</td>\n",
        "      <td> M</td>\n",
        "    </tr>\n",
        "    <tr>\n",
        "      <th>4</th>\n",
        "      <td> CEU</td>\n",
        "      <td> 2003-01-03</td>\n",
        "      <td> GSM25358.CEL.gz</td>\n",
        "      <td> M</td>\n",
        "    </tr>\n",
        "  </tbody>\n",
        "</table>\n",
        "</div>"
       ],
       "metadata": {},
       "output_type": "pyout",
       "prompt_number": 5,
       "text": [
        "  ethnicity        date         filename sex\n",
        "0       CEU  2003-02-04  GSM25349.CEL.gz   M\n",
        "1       CEU  2003-02-04  GSM25350.CEL.gz   M\n",
        "2       CEU  2002-12-17  GSM25356.CEL.gz   M\n",
        "3       CEU  2003-01-30  GSM25357.CEL.gz   M\n",
        "4       CEU  2003-01-03  GSM25358.CEL.gz   M"
       ]
      }
     ],
     "prompt_number": 5
    },
    {
     "cell_type": "markdown",
     "metadata": {},
     "source": [
      "#### Problem 1(b)\n",
      "\n",
      "Extract the year and month as integers from the `sampleinfo` table. \n",
      "\n",
      "**Hint**: To convert a Series or a column of a pandas DataFrame that contains a date-like object, you can use the `to_datetime` function [[read here](http://pandas.pydata.org/pandas-docs/stable/timeseries.html)].  This will create a `DatetimeIndex` which can be used to extract the month and year for each row in the DataFrame. "
     ]
    },
    {
     "cell_type": "code",
     "collapsed": false,
     "input": [
      "sampleinfo.date = pd.to_datetime(sampleinfo.date)\n",
      "sampleinfo[\"month\"] = map(lambda x: x.month, sampleinfo.date)\n",
      "sampleinfo[\"year\"] = map(lambda x: x.year, sampleinfo.date)\n",
      "\n",
      "sampleinfo.head()"
     ],
     "language": "python",
     "metadata": {},
     "outputs": [
      {
       "html": [
        "<div style=\"max-height:1000px;max-width:1500px;overflow:auto;\">\n",
        "<table border=\"1\" class=\"dataframe\">\n",
        "  <thead>\n",
        "    <tr style=\"text-align: right;\">\n",
        "      <th></th>\n",
        "      <th>ethnicity</th>\n",
        "      <th>date</th>\n",
        "      <th>filename</th>\n",
        "      <th>sex</th>\n",
        "      <th>month</th>\n",
        "      <th>year</th>\n",
        "    </tr>\n",
        "  </thead>\n",
        "  <tbody>\n",
        "    <tr>\n",
        "      <th>0</th>\n",
        "      <td> CEU</td>\n",
        "      <td>2003-02-04</td>\n",
        "      <td> GSM25349.CEL.gz</td>\n",
        "      <td> M</td>\n",
        "      <td>  2</td>\n",
        "      <td> 2003</td>\n",
        "    </tr>\n",
        "    <tr>\n",
        "      <th>1</th>\n",
        "      <td> CEU</td>\n",
        "      <td>2003-02-04</td>\n",
        "      <td> GSM25350.CEL.gz</td>\n",
        "      <td> M</td>\n",
        "      <td>  2</td>\n",
        "      <td> 2003</td>\n",
        "    </tr>\n",
        "    <tr>\n",
        "      <th>2</th>\n",
        "      <td> CEU</td>\n",
        "      <td>2002-12-17</td>\n",
        "      <td> GSM25356.CEL.gz</td>\n",
        "      <td> M</td>\n",
        "      <td> 12</td>\n",
        "      <td> 2002</td>\n",
        "    </tr>\n",
        "    <tr>\n",
        "      <th>3</th>\n",
        "      <td> CEU</td>\n",
        "      <td>2003-01-30</td>\n",
        "      <td> GSM25357.CEL.gz</td>\n",
        "      <td> M</td>\n",
        "      <td>  1</td>\n",
        "      <td> 2003</td>\n",
        "    </tr>\n",
        "    <tr>\n",
        "      <th>4</th>\n",
        "      <td> CEU</td>\n",
        "      <td>2003-01-03</td>\n",
        "      <td> GSM25358.CEL.gz</td>\n",
        "      <td> M</td>\n",
        "      <td>  1</td>\n",
        "      <td> 2003</td>\n",
        "    </tr>\n",
        "  </tbody>\n",
        "</table>\n",
        "</div>"
       ],
       "metadata": {},
       "output_type": "pyout",
       "prompt_number": 6,
       "text": [
        "  ethnicity       date         filename sex  month  year\n",
        "0       CEU 2003-02-04  GSM25349.CEL.gz   M      2  2003\n",
        "1       CEU 2003-02-04  GSM25350.CEL.gz   M      2  2003\n",
        "2       CEU 2002-12-17  GSM25356.CEL.gz   M     12  2002\n",
        "3       CEU 2003-01-30  GSM25357.CEL.gz   M      1  2003\n",
        "4       CEU 2003-01-03  GSM25358.CEL.gz   M      1  2003"
       ]
      }
     ],
     "prompt_number": 6
    },
    {
     "cell_type": "markdown",
     "metadata": {},
     "source": [
      "#### Problem 1(c)\n",
      "\n",
      "Convert the dates in the `date` column from the `sampleinfo` table into days since October 31, 2002. Add a column to the `sampleinfo` DataFrame titled `elapsedInDays` containing the days since October 31, 2002.  Show the head of the `sampleinfo` DataFrame which includes the new column.  \n",
      "\n",
      "**Hint**: Use the `datetime` module to create a new `datetime` object for the specific date October 31, 2002. Then, subtract the October 31, 2002 date from each date from the `date` column in the `sampleinfo` DataFrame. "
     ]
    },
    {
     "cell_type": "code",
     "collapsed": false,
     "input": [
      "day_oct = dt.datetime(2002,10,31)\n",
      "sampleinfo[\"elapsedInDays\"] = map(lambda x: (x - day_oct).days, sampleinfo.date)\n",
      "\n",
      "sampleinfo.head()"
     ],
     "language": "python",
     "metadata": {},
     "outputs": [
      {
       "html": [
        "<div style=\"max-height:1000px;max-width:1500px;overflow:auto;\">\n",
        "<table border=\"1\" class=\"dataframe\">\n",
        "  <thead>\n",
        "    <tr style=\"text-align: right;\">\n",
        "      <th></th>\n",
        "      <th>ethnicity</th>\n",
        "      <th>date</th>\n",
        "      <th>filename</th>\n",
        "      <th>sex</th>\n",
        "      <th>month</th>\n",
        "      <th>year</th>\n",
        "      <th>elapsedInDays</th>\n",
        "    </tr>\n",
        "  </thead>\n",
        "  <tbody>\n",
        "    <tr>\n",
        "      <th>0</th>\n",
        "      <td> CEU</td>\n",
        "      <td>2003-02-04</td>\n",
        "      <td> GSM25349.CEL.gz</td>\n",
        "      <td> M</td>\n",
        "      <td>  2</td>\n",
        "      <td> 2003</td>\n",
        "      <td> 96</td>\n",
        "    </tr>\n",
        "    <tr>\n",
        "      <th>1</th>\n",
        "      <td> CEU</td>\n",
        "      <td>2003-02-04</td>\n",
        "      <td> GSM25350.CEL.gz</td>\n",
        "      <td> M</td>\n",
        "      <td>  2</td>\n",
        "      <td> 2003</td>\n",
        "      <td> 96</td>\n",
        "    </tr>\n",
        "    <tr>\n",
        "      <th>2</th>\n",
        "      <td> CEU</td>\n",
        "      <td>2002-12-17</td>\n",
        "      <td> GSM25356.CEL.gz</td>\n",
        "      <td> M</td>\n",
        "      <td> 12</td>\n",
        "      <td> 2002</td>\n",
        "      <td> 47</td>\n",
        "    </tr>\n",
        "    <tr>\n",
        "      <th>3</th>\n",
        "      <td> CEU</td>\n",
        "      <td>2003-01-30</td>\n",
        "      <td> GSM25357.CEL.gz</td>\n",
        "      <td> M</td>\n",
        "      <td>  1</td>\n",
        "      <td> 2003</td>\n",
        "      <td> 91</td>\n",
        "    </tr>\n",
        "    <tr>\n",
        "      <th>4</th>\n",
        "      <td> CEU</td>\n",
        "      <td>2003-01-03</td>\n",
        "      <td> GSM25358.CEL.gz</td>\n",
        "      <td> M</td>\n",
        "      <td>  1</td>\n",
        "      <td> 2003</td>\n",
        "      <td> 64</td>\n",
        "    </tr>\n",
        "  </tbody>\n",
        "</table>\n",
        "</div>"
       ],
       "metadata": {},
       "output_type": "pyout",
       "prompt_number": 7,
       "text": [
        "  ethnicity       date         filename sex  month  year  elapsedInDays\n",
        "0       CEU 2003-02-04  GSM25349.CEL.gz   M      2  2003             96\n",
        "1       CEU 2003-02-04  GSM25350.CEL.gz   M      2  2003             96\n",
        "2       CEU 2002-12-17  GSM25356.CEL.gz   M     12  2002             47\n",
        "3       CEU 2003-01-30  GSM25357.CEL.gz   M      1  2003             91\n",
        "4       CEU 2003-01-03  GSM25358.CEL.gz   M      1  2003             64"
       ]
      }
     ],
     "prompt_number": 7
    },
    {
     "cell_type": "markdown",
     "metadata": {},
     "source": [
      "#### Problem 1(d)\n",
      "\n",
      "Use exploratory analysis and the singular value decomposition (SVD) of the gene expression data matrix to determine if the date the samples were processed has large effect on the variability seen in the data or if it is just ethnicity (which is confounded with date). \n",
      "\n",
      "**Hint**: See the end of the [lecture from 9/23/2014 for help with SVD](http://nbviewer.ipython.org/github/cs109/2014/blob/master/lectures/lecture07/data_scraping_transcript.ipynb). \n",
      "\n",
      "First subset the the `sampleinfo` DataFrame to include only the CEU ethnicity.  Call this new subsetted DataFrame `sampleinfoCEU`.  Show the head of `sampleinfoCEU` DataFrame. "
     ]
    },
    {
     "cell_type": "code",
     "collapsed": false,
     "input": [
      "sampleinfoCEU = sampleinfo[sampleinfo[\"ethnicity\"] == \"CEU\"]\n",
      "sampleinfoCEU.head()"
     ],
     "language": "python",
     "metadata": {},
     "outputs": [
      {
       "html": [
        "<div style=\"max-height:1000px;max-width:1500px;overflow:auto;\">\n",
        "<table border=\"1\" class=\"dataframe\">\n",
        "  <thead>\n",
        "    <tr style=\"text-align: right;\">\n",
        "      <th></th>\n",
        "      <th>ethnicity</th>\n",
        "      <th>date</th>\n",
        "      <th>filename</th>\n",
        "      <th>sex</th>\n",
        "      <th>month</th>\n",
        "      <th>year</th>\n",
        "      <th>elapsedInDays</th>\n",
        "    </tr>\n",
        "  </thead>\n",
        "  <tbody>\n",
        "    <tr>\n",
        "      <th>0</th>\n",
        "      <td> CEU</td>\n",
        "      <td>2003-02-04</td>\n",
        "      <td> GSM25349.CEL.gz</td>\n",
        "      <td> M</td>\n",
        "      <td>  2</td>\n",
        "      <td> 2003</td>\n",
        "      <td> 96</td>\n",
        "    </tr>\n",
        "    <tr>\n",
        "      <th>1</th>\n",
        "      <td> CEU</td>\n",
        "      <td>2003-02-04</td>\n",
        "      <td> GSM25350.CEL.gz</td>\n",
        "      <td> M</td>\n",
        "      <td>  2</td>\n",
        "      <td> 2003</td>\n",
        "      <td> 96</td>\n",
        "    </tr>\n",
        "    <tr>\n",
        "      <th>2</th>\n",
        "      <td> CEU</td>\n",
        "      <td>2002-12-17</td>\n",
        "      <td> GSM25356.CEL.gz</td>\n",
        "      <td> M</td>\n",
        "      <td> 12</td>\n",
        "      <td> 2002</td>\n",
        "      <td> 47</td>\n",
        "    </tr>\n",
        "    <tr>\n",
        "      <th>3</th>\n",
        "      <td> CEU</td>\n",
        "      <td>2003-01-30</td>\n",
        "      <td> GSM25357.CEL.gz</td>\n",
        "      <td> M</td>\n",
        "      <td>  1</td>\n",
        "      <td> 2003</td>\n",
        "      <td> 91</td>\n",
        "    </tr>\n",
        "    <tr>\n",
        "      <th>4</th>\n",
        "      <td> CEU</td>\n",
        "      <td>2003-01-03</td>\n",
        "      <td> GSM25358.CEL.gz</td>\n",
        "      <td> M</td>\n",
        "      <td>  1</td>\n",
        "      <td> 2003</td>\n",
        "      <td> 64</td>\n",
        "    </tr>\n",
        "  </tbody>\n",
        "</table>\n",
        "</div>"
       ],
       "metadata": {},
       "output_type": "pyout",
       "prompt_number": 8,
       "text": [
        "  ethnicity       date         filename sex  month  year  elapsedInDays\n",
        "0       CEU 2003-02-04  GSM25349.CEL.gz   M      2  2003             96\n",
        "1       CEU 2003-02-04  GSM25350.CEL.gz   M      2  2003             96\n",
        "2       CEU 2002-12-17  GSM25356.CEL.gz   M     12  2002             47\n",
        "3       CEU 2003-01-30  GSM25357.CEL.gz   M      1  2003             91\n",
        "4       CEU 2003-01-03  GSM25358.CEL.gz   M      1  2003             64"
       ]
      }
     ],
     "prompt_number": 8
    },
    {
     "cell_type": "markdown",
     "metadata": {},
     "source": [
      "Next, subset the `exprs` DataFrame to only include the samples with the CEU ethnicity. Name this new subsetted DataFrame `exprsCEU`. Show the head of the `exprsCEU` DataFrame. "
     ]
    },
    {
     "cell_type": "code",
     "collapsed": false,
     "input": [
      "exprsCEU = exprs[sampleinfoCEU[\"filename\"]]\n",
      "exprsCEU.head()"
     ],
     "language": "python",
     "metadata": {},
     "outputs": [
      {
       "html": [
        "<div style=\"max-height:1000px;max-width:1500px;overflow:auto;\">\n",
        "<table border=\"1\" class=\"dataframe\">\n",
        "  <thead>\n",
        "    <tr style=\"text-align: right;\">\n",
        "      <th></th>\n",
        "      <th>GSM25349.CEL.gz</th>\n",
        "      <th>GSM25350.CEL.gz</th>\n",
        "      <th>GSM25356.CEL.gz</th>\n",
        "      <th>GSM25357.CEL.gz</th>\n",
        "      <th>GSM25358.CEL.gz</th>\n",
        "      <th>GSM25359.CEL.gz</th>\n",
        "      <th>GSM25360.CEL.gz</th>\n",
        "      <th>GSM25361.CEL.gz</th>\n",
        "      <th>GSM25377.CEL.gz</th>\n",
        "      <th>GSM25378.CEL.gz</th>\n",
        "      <th>...</th>\n",
        "      <th>GSM48658.CEL.gz</th>\n",
        "      <th>GSM48660.CEL.gz</th>\n",
        "      <th>GSM48661.CEL.gz</th>\n",
        "      <th>GSM48662.CEL.gz</th>\n",
        "      <th>GSM48663.CEL.gz</th>\n",
        "      <th>GSM48664.CEL.gz</th>\n",
        "      <th>GSM48665.CEL.gz</th>\n",
        "      <th>GSM136725.CEL.gz</th>\n",
        "      <th>GSM136726.CEL.gz</th>\n",
        "      <th>GSM136727.CEL.gz</th>\n",
        "    </tr>\n",
        "  </thead>\n",
        "  <tbody>\n",
        "    <tr>\n",
        "      <th>1007_s_at</th>\n",
        "      <td> 6.627014</td>\n",
        "      <td> 6.249807</td>\n",
        "      <td> 5.934128</td>\n",
        "      <td> 6.145268</td>\n",
        "      <td> 6.091270</td>\n",
        "      <td> 6.041186</td>\n",
        "      <td> 6.050375</td>\n",
        "      <td> 6.063847</td>\n",
        "      <td> 6.226106</td>\n",
        "      <td> 6.358282</td>\n",
        "      <td>...</td>\n",
        "      <td> 6.501510</td>\n",
        "      <td> 6.558100</td>\n",
        "      <td> 6.618286</td>\n",
        "      <td> 6.869995</td>\n",
        "      <td> 5.981000</td>\n",
        "      <td> 6.403285</td>\n",
        "      <td> 6.248702</td>\n",
        "      <td> 6.488579</td>\n",
        "      <td> 6.809481</td>\n",
        "      <td> 6.133068</td>\n",
        "    </tr>\n",
        "    <tr>\n",
        "      <th>1053_at</th>\n",
        "      <td> 6.939184</td>\n",
        "      <td> 6.818038</td>\n",
        "      <td> 7.047962</td>\n",
        "      <td> 7.422477</td>\n",
        "      <td> 7.272361</td>\n",
        "      <td> 7.128216</td>\n",
        "      <td> 6.750719</td>\n",
        "      <td> 6.836287</td>\n",
        "      <td> 6.738022</td>\n",
        "      <td> 7.367895</td>\n",
        "      <td>...</td>\n",
        "      <td> 7.066686</td>\n",
        "      <td> 7.386702</td>\n",
        "      <td> 6.407958</td>\n",
        "      <td> 7.089180</td>\n",
        "      <td> 7.120923</td>\n",
        "      <td> 7.018998</td>\n",
        "      <td> 7.155419</td>\n",
        "      <td> 7.517410</td>\n",
        "      <td> 7.200596</td>\n",
        "      <td> 7.280781</td>\n",
        "    </tr>\n",
        "    <tr>\n",
        "      <th>117_at</th>\n",
        "      <td> 5.113570</td>\n",
        "      <td> 5.074096</td>\n",
        "      <td> 5.371201</td>\n",
        "      <td> 5.266550</td>\n",
        "      <td> 5.342047</td>\n",
        "      <td> 5.063876</td>\n",
        "      <td> 5.315898</td>\n",
        "      <td> 5.483652</td>\n",
        "      <td> 6.689444</td>\n",
        "      <td> 6.482782</td>\n",
        "      <td>...</td>\n",
        "      <td> 5.600514</td>\n",
        "      <td> 5.232676</td>\n",
        "      <td> 5.630720</td>\n",
        "      <td> 4.944748</td>\n",
        "      <td> 5.275577</td>\n",
        "      <td> 5.770358</td>\n",
        "      <td> 5.616842</td>\n",
        "      <td> 5.247190</td>\n",
        "      <td> 5.237239</td>\n",
        "      <td> 5.401876</td>\n",
        "    </tr>\n",
        "    <tr>\n",
        "      <th>121_at</th>\n",
        "      <td> 7.833862</td>\n",
        "      <td> 7.780682</td>\n",
        "      <td> 7.458197</td>\n",
        "      <td> 7.655948</td>\n",
        "      <td> 7.546555</td>\n",
        "      <td> 7.072670</td>\n",
        "      <td> 7.092984</td>\n",
        "      <td> 6.954225</td>\n",
        "      <td> 7.489785</td>\n",
        "      <td> 7.388539</td>\n",
        "      <td>...</td>\n",
        "      <td> 7.437535</td>\n",
        "      <td> 7.714650</td>\n",
        "      <td> 7.416252</td>\n",
        "      <td> 7.746448</td>\n",
        "      <td> 8.001434</td>\n",
        "      <td> 7.626723</td>\n",
        "      <td> 7.452299</td>\n",
        "      <td> 7.331864</td>\n",
        "      <td> 7.357102</td>\n",
        "      <td> 7.607461</td>\n",
        "    </tr>\n",
        "    <tr>\n",
        "      <th>1255_g_at</th>\n",
        "      <td> 3.152269</td>\n",
        "      <td> 3.111747</td>\n",
        "      <td> 3.018932</td>\n",
        "      <td> 3.154545</td>\n",
        "      <td> 3.107954</td>\n",
        "      <td> 3.224284</td>\n",
        "      <td> 3.114241</td>\n",
        "      <td> 3.044975</td>\n",
        "      <td> 3.304038</td>\n",
        "      <td> 2.887919</td>\n",
        "      <td>...</td>\n",
        "      <td> 3.009983</td>\n",
        "      <td> 3.151203</td>\n",
        "      <td> 3.199709</td>\n",
        "      <td> 3.159496</td>\n",
        "      <td> 3.149710</td>\n",
        "      <td> 3.242780</td>\n",
        "      <td> 3.433125</td>\n",
        "      <td> 3.175846</td>\n",
        "      <td> 3.105092</td>\n",
        "      <td> 3.225123</td>\n",
        "    </tr>\n",
        "  </tbody>\n",
        "</table>\n",
        "<p>5 rows \u00d7 102 columns</p>\n",
        "</div>"
       ],
       "metadata": {},
       "output_type": "pyout",
       "prompt_number": 9,
       "text": [
        "           GSM25349.CEL.gz  GSM25350.CEL.gz  GSM25356.CEL.gz  GSM25357.CEL.gz  \\\n",
        "1007_s_at         6.627014         6.249807         5.934128         6.145268   \n",
        "1053_at           6.939184         6.818038         7.047962         7.422477   \n",
        "117_at            5.113570         5.074096         5.371201         5.266550   \n",
        "121_at            7.833862         7.780682         7.458197         7.655948   \n",
        "1255_g_at         3.152269         3.111747         3.018932         3.154545   \n",
        "\n",
        "           GSM25358.CEL.gz  GSM25359.CEL.gz  GSM25360.CEL.gz  GSM25361.CEL.gz  \\\n",
        "1007_s_at         6.091270         6.041186         6.050375         6.063847   \n",
        "1053_at           7.272361         7.128216         6.750719         6.836287   \n",
        "117_at            5.342047         5.063876         5.315898         5.483652   \n",
        "121_at            7.546555         7.072670         7.092984         6.954225   \n",
        "1255_g_at         3.107954         3.224284         3.114241         3.044975   \n",
        "\n",
        "           GSM25377.CEL.gz  GSM25378.CEL.gz        ...         \\\n",
        "1007_s_at         6.226106         6.358282        ...          \n",
        "1053_at           6.738022         7.367895        ...          \n",
        "117_at            6.689444         6.482782        ...          \n",
        "121_at            7.489785         7.388539        ...          \n",
        "1255_g_at         3.304038         2.887919        ...          \n",
        "\n",
        "           GSM48658.CEL.gz  GSM48660.CEL.gz  GSM48661.CEL.gz  GSM48662.CEL.gz  \\\n",
        "1007_s_at         6.501510         6.558100         6.618286         6.869995   \n",
        "1053_at           7.066686         7.386702         6.407958         7.089180   \n",
        "117_at            5.600514         5.232676         5.630720         4.944748   \n",
        "121_at            7.437535         7.714650         7.416252         7.746448   \n",
        "1255_g_at         3.009983         3.151203         3.199709         3.159496   \n",
        "\n",
        "           GSM48663.CEL.gz  GSM48664.CEL.gz  GSM48665.CEL.gz  \\\n",
        "1007_s_at         5.981000         6.403285         6.248702   \n",
        "1053_at           7.120923         7.018998         7.155419   \n",
        "117_at            5.275577         5.770358         5.616842   \n",
        "121_at            8.001434         7.626723         7.452299   \n",
        "1255_g_at         3.149710         3.242780         3.433125   \n",
        "\n",
        "           GSM136725.CEL.gz  GSM136726.CEL.gz  GSM136727.CEL.gz  \n",
        "1007_s_at          6.488579          6.809481          6.133068  \n",
        "1053_at            7.517410          7.200596          7.280781  \n",
        "117_at             5.247190          5.237239          5.401876  \n",
        "121_at             7.331864          7.357102          7.607461  \n",
        "1255_g_at          3.175846          3.105092          3.225123  \n",
        "\n",
        "[5 rows x 102 columns]"
       ]
      }
     ],
     "prompt_number": 9
    },
    {
     "cell_type": "markdown",
     "metadata": {},
     "source": [
      "Check to make sure the order of the columns in the `exprsCEU` DataFrame matches the rows in the `sampleinfoCEU` DataFrame.  "
     ]
    },
    {
     "cell_type": "code",
     "collapsed": false,
     "input": [
      "(exprsCEU.columns.values == sampleinfoCEU[\"filename\"].values).all()"
     ],
     "language": "python",
     "metadata": {},
     "outputs": [
      {
       "metadata": {},
       "output_type": "pyout",
       "prompt_number": 10,
       "text": [
        "True"
       ]
      }
     ],
     "prompt_number": 10
    },
    {
     "cell_type": "markdown",
     "metadata": {},
     "source": [
      "Compute the average gene expression intensity in the `exprsCEU` DataFrame across all the samples. For each sample in the `exprsCEU` DataFrame, subtract the average gene expression intensity from each of the samples. Show the head of the mean normalized gene expression data.  "
     ]
    },
    {
     "cell_type": "code",
     "collapsed": false,
     "input": [
      "data = exprsCEU.sub(exprsCEU.mean(axis=1),axis=0)\n",
      "data.head()"
     ],
     "language": "python",
     "metadata": {},
     "outputs": [
      {
       "html": [
        "<div style=\"max-height:1000px;max-width:1500px;overflow:auto;\">\n",
        "<table border=\"1\" class=\"dataframe\">\n",
        "  <thead>\n",
        "    <tr style=\"text-align: right;\">\n",
        "      <th></th>\n",
        "      <th>GSM25349.CEL.gz</th>\n",
        "      <th>GSM25350.CEL.gz</th>\n",
        "      <th>GSM25356.CEL.gz</th>\n",
        "      <th>GSM25357.CEL.gz</th>\n",
        "      <th>GSM25358.CEL.gz</th>\n",
        "      <th>GSM25359.CEL.gz</th>\n",
        "      <th>GSM25360.CEL.gz</th>\n",
        "      <th>GSM25361.CEL.gz</th>\n",
        "      <th>GSM25377.CEL.gz</th>\n",
        "      <th>GSM25378.CEL.gz</th>\n",
        "      <th>...</th>\n",
        "      <th>GSM48658.CEL.gz</th>\n",
        "      <th>GSM48660.CEL.gz</th>\n",
        "      <th>GSM48661.CEL.gz</th>\n",
        "      <th>GSM48662.CEL.gz</th>\n",
        "      <th>GSM48663.CEL.gz</th>\n",
        "      <th>GSM48664.CEL.gz</th>\n",
        "      <th>GSM48665.CEL.gz</th>\n",
        "      <th>GSM136725.CEL.gz</th>\n",
        "      <th>GSM136726.CEL.gz</th>\n",
        "      <th>GSM136727.CEL.gz</th>\n",
        "    </tr>\n",
        "  </thead>\n",
        "  <tbody>\n",
        "    <tr>\n",
        "      <th>1007_s_at</th>\n",
        "      <td> 0.365059</td>\n",
        "      <td>-0.012149</td>\n",
        "      <td>-0.327827</td>\n",
        "      <td>-0.116687</td>\n",
        "      <td>-0.170685</td>\n",
        "      <td>-0.220769</td>\n",
        "      <td>-0.211580</td>\n",
        "      <td>-0.198109</td>\n",
        "      <td>-0.035849</td>\n",
        "      <td> 0.096327</td>\n",
        "      <td>...</td>\n",
        "      <td> 0.239554</td>\n",
        "      <td> 0.296144</td>\n",
        "      <td> 0.356331</td>\n",
        "      <td> 0.608040</td>\n",
        "      <td>-0.280956</td>\n",
        "      <td> 0.141330</td>\n",
        "      <td>-0.013254</td>\n",
        "      <td> 0.226624</td>\n",
        "      <td> 0.547526</td>\n",
        "      <td>-0.128887</td>\n",
        "    </tr>\n",
        "    <tr>\n",
        "      <th>1053_at</th>\n",
        "      <td>-0.136032</td>\n",
        "      <td>-0.257178</td>\n",
        "      <td>-0.027254</td>\n",
        "      <td> 0.347260</td>\n",
        "      <td> 0.197144</td>\n",
        "      <td> 0.053000</td>\n",
        "      <td>-0.324497</td>\n",
        "      <td>-0.238930</td>\n",
        "      <td>-0.337195</td>\n",
        "      <td> 0.292678</td>\n",
        "      <td>...</td>\n",
        "      <td>-0.008531</td>\n",
        "      <td> 0.311485</td>\n",
        "      <td>-0.667259</td>\n",
        "      <td> 0.013964</td>\n",
        "      <td> 0.045706</td>\n",
        "      <td>-0.056219</td>\n",
        "      <td> 0.080203</td>\n",
        "      <td> 0.442193</td>\n",
        "      <td> 0.125379</td>\n",
        "      <td> 0.205564</td>\n",
        "    </tr>\n",
        "    <tr>\n",
        "      <th>117_at</th>\n",
        "      <td>-0.490556</td>\n",
        "      <td>-0.530031</td>\n",
        "      <td>-0.232926</td>\n",
        "      <td>-0.337577</td>\n",
        "      <td>-0.262080</td>\n",
        "      <td>-0.540250</td>\n",
        "      <td>-0.288228</td>\n",
        "      <td>-0.120475</td>\n",
        "      <td> 1.085317</td>\n",
        "      <td> 0.878655</td>\n",
        "      <td>...</td>\n",
        "      <td>-0.003613</td>\n",
        "      <td>-0.371451</td>\n",
        "      <td> 0.026594</td>\n",
        "      <td>-0.659379</td>\n",
        "      <td>-0.328549</td>\n",
        "      <td> 0.166231</td>\n",
        "      <td> 0.012716</td>\n",
        "      <td>-0.356936</td>\n",
        "      <td>-0.366887</td>\n",
        "      <td>-0.202251</td>\n",
        "    </tr>\n",
        "    <tr>\n",
        "      <th>121_at</th>\n",
        "      <td> 0.418026</td>\n",
        "      <td> 0.364847</td>\n",
        "      <td> 0.042362</td>\n",
        "      <td> 0.240113</td>\n",
        "      <td> 0.130720</td>\n",
        "      <td>-0.343165</td>\n",
        "      <td>-0.322852</td>\n",
        "      <td>-0.461611</td>\n",
        "      <td> 0.073949</td>\n",
        "      <td>-0.027296</td>\n",
        "      <td>...</td>\n",
        "      <td> 0.021700</td>\n",
        "      <td> 0.298814</td>\n",
        "      <td> 0.000417</td>\n",
        "      <td> 0.330612</td>\n",
        "      <td> 0.585598</td>\n",
        "      <td> 0.210887</td>\n",
        "      <td> 0.036463</td>\n",
        "      <td>-0.083972</td>\n",
        "      <td>-0.058733</td>\n",
        "      <td> 0.191626</td>\n",
        "    </tr>\n",
        "    <tr>\n",
        "      <th>1255_g_at</th>\n",
        "      <td> 0.018335</td>\n",
        "      <td>-0.022187</td>\n",
        "      <td>-0.115002</td>\n",
        "      <td> 0.020611</td>\n",
        "      <td>-0.025980</td>\n",
        "      <td> 0.090351</td>\n",
        "      <td>-0.019693</td>\n",
        "      <td>-0.088959</td>\n",
        "      <td> 0.170104</td>\n",
        "      <td>-0.246015</td>\n",
        "      <td>...</td>\n",
        "      <td>-0.123951</td>\n",
        "      <td> 0.017269</td>\n",
        "      <td> 0.065775</td>\n",
        "      <td> 0.025562</td>\n",
        "      <td> 0.015776</td>\n",
        "      <td> 0.108846</td>\n",
        "      <td> 0.299192</td>\n",
        "      <td> 0.041912</td>\n",
        "      <td>-0.028842</td>\n",
        "      <td> 0.091189</td>\n",
        "    </tr>\n",
        "  </tbody>\n",
        "</table>\n",
        "<p>5 rows \u00d7 102 columns</p>\n",
        "</div>"
       ],
       "metadata": {},
       "output_type": "pyout",
       "prompt_number": 11,
       "text": [
        "           GSM25349.CEL.gz  GSM25350.CEL.gz  GSM25356.CEL.gz  GSM25357.CEL.gz  \\\n",
        "1007_s_at         0.365059        -0.012149        -0.327827        -0.116687   \n",
        "1053_at          -0.136032        -0.257178        -0.027254         0.347260   \n",
        "117_at           -0.490556        -0.530031        -0.232926        -0.337577   \n",
        "121_at            0.418026         0.364847         0.042362         0.240113   \n",
        "1255_g_at         0.018335        -0.022187        -0.115002         0.020611   \n",
        "\n",
        "           GSM25358.CEL.gz  GSM25359.CEL.gz  GSM25360.CEL.gz  GSM25361.CEL.gz  \\\n",
        "1007_s_at        -0.170685        -0.220769        -0.211580        -0.198109   \n",
        "1053_at           0.197144         0.053000        -0.324497        -0.238930   \n",
        "117_at           -0.262080        -0.540250        -0.288228        -0.120475   \n",
        "121_at            0.130720        -0.343165        -0.322852        -0.461611   \n",
        "1255_g_at        -0.025980         0.090351        -0.019693        -0.088959   \n",
        "\n",
        "           GSM25377.CEL.gz  GSM25378.CEL.gz        ...         \\\n",
        "1007_s_at        -0.035849         0.096327        ...          \n",
        "1053_at          -0.337195         0.292678        ...          \n",
        "117_at            1.085317         0.878655        ...          \n",
        "121_at            0.073949        -0.027296        ...          \n",
        "1255_g_at         0.170104        -0.246015        ...          \n",
        "\n",
        "           GSM48658.CEL.gz  GSM48660.CEL.gz  GSM48661.CEL.gz  GSM48662.CEL.gz  \\\n",
        "1007_s_at         0.239554         0.296144         0.356331         0.608040   \n",
        "1053_at          -0.008531         0.311485        -0.667259         0.013964   \n",
        "117_at           -0.003613        -0.371451         0.026594        -0.659379   \n",
        "121_at            0.021700         0.298814         0.000417         0.330612   \n",
        "1255_g_at        -0.123951         0.017269         0.065775         0.025562   \n",
        "\n",
        "           GSM48663.CEL.gz  GSM48664.CEL.gz  GSM48665.CEL.gz  \\\n",
        "1007_s_at        -0.280956         0.141330        -0.013254   \n",
        "1053_at           0.045706        -0.056219         0.080203   \n",
        "117_at           -0.328549         0.166231         0.012716   \n",
        "121_at            0.585598         0.210887         0.036463   \n",
        "1255_g_at         0.015776         0.108846         0.299192   \n",
        "\n",
        "           GSM136725.CEL.gz  GSM136726.CEL.gz  GSM136727.CEL.gz  \n",
        "1007_s_at          0.226624          0.547526         -0.128887  \n",
        "1053_at            0.442193          0.125379          0.205564  \n",
        "117_at            -0.356936         -0.366887         -0.202251  \n",
        "121_at            -0.083972         -0.058733          0.191626  \n",
        "1255_g_at          0.041912         -0.028842          0.091189  \n",
        "\n",
        "[5 rows x 102 columns]"
       ]
      }
     ],
     "prompt_number": 11
    },
    {
     "cell_type": "markdown",
     "metadata": {},
     "source": [
      "Using this mean normalized gene expression data, compute the projection to the first Principal Component (PC1).  \n",
      "\n",
      "**Hint**: Use the `numpy.linalg.svd()` function in the `numpy.linalg` module (or the `scipy.linalg.svd()` function in the `scipy.linalg` module) to apply an [singular value decomposition](http://en.wikipedia.org/wiki/Singular_value_decomposition) to a matrix.  "
     ]
    },
    {
     "cell_type": "code",
     "collapsed": false,
     "input": [
      "U,s,Vh = lin.svd(data.values)"
     ],
     "language": "python",
     "metadata": {},
     "outputs": [
      {
       "output_type": "stream",
       "stream": "stdout",
       "text": [
        "[  1.32606546e+02   1.17880992e+02   1.04544846e+02   8.37758704e+01\n",
        "   7.37093583e+01   7.00327364e+01   6.68614750e+01   6.12776292e+01\n",
        "   5.64892594e+01   5.27015009e+01   5.03527928e+01   4.80530395e+01\n",
        "   4.41012442e+01   4.32165035e+01   4.12121838e+01   3.89765353e+01\n",
        "   3.64799930e+01   3.53619487e+01   3.52535247e+01   3.40460959e+01\n",
        "   3.31342660e+01   3.26175196e+01   3.16604755e+01   3.07573445e+01\n",
        "   3.00354883e+01   2.96660705e+01   2.93570404e+01   2.85451114e+01\n",
        "   2.82935366e+01   2.80097440e+01   2.69326878e+01   2.66958657e+01\n",
        "   2.64601419e+01   2.63016752e+01   2.58285977e+01   2.57042559e+01\n",
        "   2.55726728e+01   2.48848833e+01   2.44890268e+01   2.41392477e+01\n",
        "   2.39994080e+01   2.35715871e+01   2.34012901e+01   2.30653604e+01\n",
        "   2.26110718e+01   2.24409269e+01   2.22373375e+01   2.19005046e+01\n",
        "   2.15857009e+01   2.15098165e+01   2.11263279e+01   2.10045689e+01\n",
        "   2.06603574e+01   2.02705778e+01   2.00349506e+01   1.99024874e+01\n",
        "   1.97439443e+01   1.93877999e+01   1.90978589e+01   1.90365497e+01\n",
        "   1.87845454e+01   1.84754330e+01   1.83370098e+01   1.81392271e+01\n",
        "   1.80784485e+01   1.75064454e+01   1.74662076e+01   1.73511268e+01\n",
        "   1.69339297e+01   1.69052656e+01   1.66334139e+01   1.65093327e+01\n",
        "   1.62731439e+01   1.61010439e+01   1.59183676e+01   1.58345449e+01\n",
        "   1.57257592e+01   1.55341544e+01   1.52804701e+01   1.50531972e+01\n",
        "   1.50236807e+01   1.48834572e+01   1.46692767e+01   1.45507650e+01\n",
        "   1.44637374e+01   1.41982300e+01   1.40541528e+01   1.37957944e+01\n",
        "   1.36420552e+01   1.29175510e+01   1.27789570e+01   1.25887624e+01\n",
        "   1.21315582e+01   1.20251952e+01   1.17468990e+01   1.10483191e+01\n",
        "   1.07283576e+01   1.03058218e+01   9.98859902e+00   9.55776719e+00\n",
        "   8.15545740e+00   1.59177283e-12]\n"
       ]
      }
     ],
     "prompt_number": 12
    },
    {
     "cell_type": "code",
     "collapsed": false,
     "input": [
      "V = Vh.T"
     ],
     "language": "python",
     "metadata": {},
     "outputs": [],
     "prompt_number": 16
    },
    {
     "cell_type": "markdown",
     "metadata": {},
     "source": [
      "Create a histogram using the values from PC1.  Use a bin size of 25.  "
     ]
    },
    {
     "cell_type": "code",
     "collapsed": false,
     "input": [
      "plt.hist(V[:,0], bins=25)"
     ],
     "language": "python",
     "metadata": {},
     "outputs": [
      {
       "metadata": {},
       "output_type": "pyout",
       "prompt_number": 19,
       "text": [
        "(array([  2.,   0.,   2.,   3.,  10.,   5.,   6.,   5.,   8.,   6.,   1.,\n",
        "          3.,   2.,   8.,   7.,   3.,   9.,   6.,   3.,   3.,   4.,   2.,\n",
        "          1.,   1.,   2.]),\n",
        " array([-0.19476468, -0.17820174, -0.1616388 , -0.14507587, -0.12851293,\n",
        "        -0.11194999, -0.09538705, -0.07882411, -0.06226117, -0.04569823,\n",
        "        -0.02913529, -0.01257235,  0.00399058,  0.02055352,  0.03711646,\n",
        "         0.0536794 ,  0.07024234,  0.08680528,  0.10336822,  0.11993116,\n",
        "         0.13649409,  0.15305703,  0.16961997,  0.18618291,  0.20274585,\n",
        "         0.21930879]),\n",
        " <a list of 25 Patch objects>)"
       ]
      },
      {
       "metadata": {},
       "output_type": "display_data",
       "png": "[encoded data removed]",
       "text": [
        "<matplotlib.figure.Figure at 0x10b208690>"
       ]
      }
     ],
     "prompt_number": 19
    },
    {
     "cell_type": "markdown",
     "metadata": {},
     "source": [
      "Create a scatter plot with the days since October 31, 2002 on the x-axis and PC1 on the y-axis."
     ]
    },
    {
     "cell_type": "code",
     "collapsed": false,
     "input": [
      "#your code here"
     ],
     "language": "python",
     "metadata": {},
     "outputs": [],
     "prompt_number": 14
    },
    {
     "cell_type": "markdown",
     "metadata": {},
     "source": [
      "Around what day do you notice a difference in the way the samples were processed?"
     ]
    },
    {
     "cell_type": "code",
     "collapsed": false,
     "input": [
      "#your code here"
     ],
     "language": "python",
     "metadata": {},
     "outputs": [],
     "prompt_number": 15
    },
    {
     "cell_type": "markdown",
     "metadata": {},
     "source": [
      "Answer:"
     ]
    },
    {
     "cell_type": "markdown",
     "metadata": {},
     "source": [
      "## Discussion for Problem 1\n",
      "\n",
      "*Write a brief discussion of your conclusions to the questions and tasks above in 100 words or less.*\n",
      "\n",
      "---\n"
     ]
    },
    {
     "cell_type": "markdown",
     "metadata": {},
     "source": [
      "## Problem 2: Is there a pollster bias in presidential election polls?"
     ]
    },
    {
     "cell_type": "markdown",
     "metadata": {},
     "source": [
      "#### Problem 2(a)\n",
      "\n",
      "The [HuffPost Pollster](http://elections.huffingtonpost.com/pollster) contains many political polls. You can access these polls from individual races as a CSV but you can also access polls through the [HuffPost Pollster API](http://elections.huffingtonpost.com/pollster/api) to access the data.  \n",
      "\n",
      "Read in the polls from the [2012 Presidential Election: Barack Obama vs Mitt Romney](http://elections.huffingtonpost.com/pollster/2012-general-election-romney-vs-obama) into a pandas DataFrame called `election`. For this problem, you may read in the polls for this race directly using [the CSV file](http://elections.huffingtonpost.com/pollster/2012-general-election-romney-vs-obama.csv) available from the HuffPost Pollster page."
     ]
    },
    {
     "cell_type": "code",
     "collapsed": false,
     "input": [
      "#your code here"
     ],
     "language": "python",
     "metadata": {},
     "outputs": [],
     "prompt_number": 16
    },
    {
     "cell_type": "markdown",
     "metadata": {},
     "source": [
      "Show the head of the `election` DataFrame. "
     ]
    },
    {
     "cell_type": "code",
     "collapsed": false,
     "input": [
      "#your code here"
     ],
     "language": "python",
     "metadata": {},
     "outputs": [],
     "prompt_number": 17
    },
    {
     "cell_type": "markdown",
     "metadata": {},
     "source": [
      "How many polls were conducted in November? Define this number as M.  \n",
      "\n",
      "**Hint**: Subset the `election` DataFrame for only dates in the `Start Date` column that are in November 2012.  "
     ]
    },
    {
     "cell_type": "code",
     "collapsed": false,
     "input": [
      "#your code here"
     ],
     "language": "python",
     "metadata": {},
     "outputs": [],
     "prompt_number": 18
    },
    {
     "cell_type": "markdown",
     "metadata": {},
     "source": [
      "Answer:"
     ]
    },
    {
     "cell_type": "markdown",
     "metadata": {},
     "source": [
      "What was the median of the number of observations in the November polls? Define this quantity as N. "
     ]
    },
    {
     "cell_type": "code",
     "collapsed": false,
     "input": [
      "#your code here"
     ],
     "language": "python",
     "metadata": {},
     "outputs": [],
     "prompt_number": 19
    },
    {
     "cell_type": "markdown",
     "metadata": {},
     "source": [
      "Answer: "
     ]
    },
    {
     "cell_type": "markdown",
     "metadata": {},
     "source": [
      "#### Problem 2(b)\n",
      "\n",
      "Using the median sample size $N$ from Problem 1(a), simulate the results from a single poll:  simulate the number of votes for Obama out of a sample size $N$ where $p$ = 0.53 is the percent of voters who are voting for Obama.  \n",
      "\n",
      "**Hint**: Use the binomial distribution with parameters $N$ and $p$ = 0.53. "
     ]
    },
    {
     "cell_type": "code",
     "collapsed": false,
     "input": [
      "#your code here"
     ],
     "language": "python",
     "metadata": {},
     "outputs": [],
     "prompt_number": 20
    },
    {
     "cell_type": "markdown",
     "metadata": {},
     "source": [
      "Now, perform a Monte Carlo simulation to obtain the estimated percentage of Obama votes with a sample size $N$ where $N$ is the median sample size calculated in Problem 2(a). Let $p$=0.53 be the percent of voters are voting for Obama. \n",
      "\n",
      "**Hint**: You will repeat the simulation above 1,000 times and plot the distribution of the estimated *percent* of Obama votes from a single poll.  The results from the single poll you simulate is random variable and will be different every time you sample. "
     ]
    },
    {
     "cell_type": "code",
     "collapsed": false,
     "input": [
      "#your code here"
     ],
     "language": "python",
     "metadata": {},
     "outputs": [],
     "prompt_number": 21
    },
    {
     "cell_type": "markdown",
     "metadata": {},
     "source": [
      "Plot the distribution of the estimated percentage of Obama votes from your single poll. What is the distribution of the estimated percentage of Obama votes? "
     ]
    },
    {
     "cell_type": "code",
     "collapsed": false,
     "input": [
      "#your code here"
     ],
     "language": "python",
     "metadata": {},
     "outputs": [],
     "prompt_number": 22
    },
    {
     "cell_type": "markdown",
     "metadata": {},
     "source": [
      "Answer: "
     ]
    },
    {
     "cell_type": "markdown",
     "metadata": {},
     "source": [
      "What is the standard error (SE) of the estimated percentage from the poll. \n",
      "\n",
      "**Hint**: Remember the SE is the standard deviation (SD) of the distribution of a random variable. "
     ]
    },
    {
     "cell_type": "code",
     "collapsed": false,
     "input": [
      "#your code here"
     ],
     "language": "python",
     "metadata": {},
     "outputs": [],
     "prompt_number": 23
    },
    {
     "cell_type": "markdown",
     "metadata": {},
     "source": [
      "#### Problem 2(c)\n",
      "\n",
      "Now suppose we run M polls where M is the number of polls that happened in November (calculated in Problem 2(a)). Run 1,000 simulations and compute the mean of the M polls for each simulation. "
     ]
    },
    {
     "cell_type": "code",
     "collapsed": false,
     "input": [
      "#your code here"
     ],
     "language": "python",
     "metadata": {},
     "outputs": [],
     "prompt_number": 24
    },
    {
     "cell_type": "markdown",
     "metadata": {},
     "source": [
      "What is the distribution of the average of polls?\n",
      "\n",
      "**Hint**: Show a plot. "
     ]
    },
    {
     "cell_type": "code",
     "collapsed": false,
     "input": [
      "#your code here"
     ],
     "language": "python",
     "metadata": {},
     "outputs": [],
     "prompt_number": 25
    },
    {
     "cell_type": "markdown",
     "metadata": {},
     "source": [
      "Answer: "
     ]
    },
    {
     "cell_type": "markdown",
     "metadata": {},
     "source": [
      "What is the standard error (SE) of the average of polls? "
     ]
    },
    {
     "cell_type": "code",
     "collapsed": false,
     "input": [
      "#your code here"
     ],
     "language": "python",
     "metadata": {},
     "outputs": [],
     "prompt_number": 26
    },
    {
     "cell_type": "markdown",
     "metadata": {},
     "source": [
      "Answer: "
     ]
    },
    {
     "cell_type": "markdown",
     "metadata": {},
     "source": [
      "Is the SE of the average of polls larger, the same, or smaller than that the SD of a single poll (calculated in Problem 2(b))? By how much?\n",
      "\n",
      "**Hint**: Compute a ratio of the two quantities.  "
     ]
    },
    {
     "cell_type": "code",
     "collapsed": false,
     "input": [
      "#your code here"
     ],
     "language": "python",
     "metadata": {},
     "outputs": [],
     "prompt_number": 27
    },
    {
     "cell_type": "markdown",
     "metadata": {},
     "source": [
      "Answer: "
     ]
    },
    {
     "cell_type": "markdown",
     "metadata": {},
     "source": [
      "#### Problem 2(d) \n",
      "\n",
      "Repeat Problem 2(c) but now record the *across poll* standard deviation in each simulation. "
     ]
    },
    {
     "cell_type": "code",
     "collapsed": false,
     "input": [
      "#your code here"
     ],
     "language": "python",
     "metadata": {},
     "outputs": [],
     "prompt_number": 28
    },
    {
     "cell_type": "markdown",
     "metadata": {},
     "source": [
      "What is the distribution of the *across M polls* standard deviation?\n",
      "\n",
      "**Hint**: Show a plot. "
     ]
    },
    {
     "cell_type": "code",
     "collapsed": false,
     "input": [
      "#your code here"
     ],
     "language": "python",
     "metadata": {},
     "outputs": [],
     "prompt_number": 29
    },
    {
     "cell_type": "markdown",
     "metadata": {},
     "source": [
      "Answer: "
     ]
    },
    {
     "cell_type": "markdown",
     "metadata": {},
     "source": [
      "#### Problem 2(e) \n",
      "\n",
      "What is the standard deviation of M polls in our real (not simulated) 2012 presidential election data ? "
     ]
    },
    {
     "cell_type": "code",
     "collapsed": false,
     "input": [
      "#your code here"
     ],
     "language": "python",
     "metadata": {},
     "outputs": [],
     "prompt_number": 30
    },
    {
     "cell_type": "markdown",
     "metadata": {},
     "source": [
      "Is this larger, the same, or smaller than what we expeced if polls were not biased."
     ]
    },
    {
     "cell_type": "code",
     "collapsed": false,
     "input": [
      "#your code here"
     ],
     "language": "python",
     "metadata": {},
     "outputs": [],
     "prompt_number": 31
    },
    {
     "cell_type": "markdown",
     "metadata": {},
     "source": [
      "Answer: "
     ]
    },
    {
     "cell_type": "markdown",
     "metadata": {},
     "source": [
      "#### Problem 2(f)\n",
      "\n",
      "**For AC209 Students**: Learn about the normal approximation for the binomial distribution and derive the results of Problem 2(b) and 2(c) analytically (using this approximation). Compare the results obtained analytically to those obtained from simulations."
     ]
    },
    {
     "cell_type": "code",
     "collapsed": false,
     "input": [
      "#your code here"
     ],
     "language": "python",
     "metadata": {},
     "outputs": [],
     "prompt_number": 32
    },
    {
     "cell_type": "markdown",
     "metadata": {},
     "source": [
      "Answer: "
     ]
    },
    {
     "cell_type": "markdown",
     "metadata": {},
     "source": [
      "## Discussion for Problem 2\n",
      "\n",
      "*Write a brief discussion of your conclusions to the questions and tasks above in 100 words or less.*\n",
      "\n",
      "---\n"
     ]
    },
    {
     "cell_type": "markdown",
     "metadata": {},
     "source": [
      "## Problem 3: Is the average of polls better than just one poll?"
     ]
    },
    {
     "cell_type": "markdown",
     "metadata": {},
     "source": [
      "#### Problem 3(a)\n",
      "\n",
      "Most undecided voters vote for one of the two candidates at the election. Therefore, the reported percentages underestimate the final value of both candidates. However, if we assume the undecided will split evenly, then the observed difference should be an unbiased estimate of the final difference. \n",
      "\n",
      "Add a new column to the `election` DataFrame containg the difference between Obama and Romeny called `Diff`. "
     ]
    },
    {
     "cell_type": "code",
     "collapsed": false,
     "input": [
      "#your code here"
     ],
     "language": "python",
     "metadata": {},
     "outputs": [],
     "prompt_number": 33
    },
    {
     "cell_type": "markdown",
     "metadata": {},
     "source": [
      "#### Problem 3(b)\n",
      "\n",
      "Make a plot of the differences for the week before the election (e.g. 5 days) where the days are on the x-axis and the differences are on the y-axis.  Add a horizontal line showing 3.9%: the difference between Obama and Romney on election day."
     ]
    },
    {
     "cell_type": "code",
     "collapsed": false,
     "input": [
      "#your code here"
     ],
     "language": "python",
     "metadata": {},
     "outputs": [],
     "prompt_number": 34
    },
    {
     "cell_type": "markdown",
     "metadata": {},
     "source": [
      "#### Problem 3(c) \n",
      "\n",
      "Make a plot showing the differences by pollster where the pollsters are on the x-axis and the differences on the y-axis. "
     ]
    },
    {
     "cell_type": "code",
     "collapsed": false,
     "input": [
      "#your code here"
     ],
     "language": "python",
     "metadata": {},
     "outputs": [],
     "prompt_number": 35
    },
    {
     "cell_type": "markdown",
     "metadata": {},
     "source": [
      "Is the *across poll* difference larger than the *between pollster* difference? "
     ]
    },
    {
     "cell_type": "markdown",
     "metadata": {},
     "source": [
      "Answer: "
     ]
    },
    {
     "cell_type": "markdown",
     "metadata": {},
     "source": [
      "#### Problem 3(d)\n",
      "\n",
      "Take the average for each pollster and then compute the average of that. Given this difference how confident would you have been of an Obama victory?\n",
      "\n",
      "**Hint**: Compute an estimate of the SE of this average based exclusively on the observed data. "
     ]
    },
    {
     "cell_type": "code",
     "collapsed": false,
     "input": [
      "#your code here"
     ],
     "language": "python",
     "metadata": {},
     "outputs": [],
     "prompt_number": 36
    },
    {
     "cell_type": "markdown",
     "metadata": {},
     "source": [
      "Answer: "
     ]
    },
    {
     "cell_type": "markdown",
     "metadata": {},
     "source": [
      "#### Problem 3(e)\n",
      "\n",
      "**For AC209 Students**: Show the difference against time and see if you can detect a trend towards the end. Use this trend to see if it improves the final estimate."
     ]
    },
    {
     "cell_type": "code",
     "collapsed": false,
     "input": [
      "#your code here"
     ],
     "language": "python",
     "metadata": {},
     "outputs": [],
     "prompt_number": 37
    },
    {
     "cell_type": "markdown",
     "metadata": {},
     "source": [
      "Answer: "
     ]
    },
    {
     "cell_type": "markdown",
     "metadata": {},
     "source": [
      "## Discussion for Problem 3\n",
      "\n",
      "*Write a brief discussion of your conclusions to the questions and tasks above in 100 words or less.*\n",
      "\n",
      "---\n"
     ]
    },
    {
     "cell_type": "markdown",
     "metadata": {},
     "source": [
      "## Problem 4\n",
      "\n",
      "In this last problem, we will use the polls from the [2014 Senate Midterm Elections](http://elections.huffingtonpost.com/pollster) from the [HuffPost Pollster API](http://elections.huffingtonpost.com/pollster/api) to create a preliminary prediction of the result of each state. \n",
      "\n",
      "The HuffPost Pollster API allows you to access the data as a CSV or a JSON response by tacking \".csv\" or \".json\" at the end of the URLs. For example the 2012 Presidential Election could be accessed as a [.json](http://elections.huffingtonpost.com/pollster/2012-general-election-romney-vs-obama.json) instead of a [.csv](http://elections.huffingtonpost.com/pollster/2012-general-election-romney-vs-obama.csv)"
     ]
    },
    {
     "cell_type": "markdown",
     "metadata": {},
     "source": [
      "#### Problem 4(a)\n",
      "\n",
      "Read in the polls for **all** of the 2014 Senate Elections using the HuffPost API. For example, we can consider the [2014 Senate race in Kentucky between Mitch McConnell and Alison Grimes](http://elections.huffingtonpost.com/pollster/2014-kentucky-senate-mcconnell-vs-grimes). \n",
      "\n",
      "To search for the 2014 Senate races, use the `topics` parameter in the API [[read more about topics here](http://elections.huffingtonpost.com/pollster/api)].  "
     ]
    },
    {
     "cell_type": "code",
     "collapsed": false,
     "input": [
      "url_str = \"http://elections.huffingtonpost.com/pollster/api/charts/?topic=2014-senate\""
     ],
     "language": "python",
     "metadata": {},
     "outputs": [],
     "prompt_number": 38
    },
    {
     "cell_type": "markdown",
     "metadata": {},
     "source": [
      "To list all the URLs related to the 2014 Senate races using the pollster API, we can use a list comprehension:"
     ]
    },
    {
     "cell_type": "code",
     "collapsed": false,
     "input": [
      "election_urls = [election['url'] + '.csv' for election in requests.get(url_str).json()]\n",
      "election_urls"
     ],
     "language": "python",
     "metadata": {},
     "outputs": [
      {
       "metadata": {},
       "output_type": "pyout",
       "prompt_number": 39,
       "text": [
        "[u'http://elections.huffingtonpost.com/pollster/2014-kentucky-senate-mcconnell-vs-grimes.csv',\n",
        " u'http://elections.huffingtonpost.com/pollster/2014-arkansas-senate-cotton-vs-pryor.csv',\n",
        " u'http://elections.huffingtonpost.com/pollster/2014-michigan-senate-land-vs-peters.csv',\n",
        " u'http://elections.huffingtonpost.com/pollster/2014-louisiana-senate-cassidy-vs-landrieu.csv',\n",
        " u'http://elections.huffingtonpost.com/pollster/2014-new-hampshire-senate-brown-vs-shaheen.csv',\n",
        " u'http://elections.huffingtonpost.com/pollster/2014-west-virginia-senate-capito-vs-tennant.csv',\n",
        " u'http://elections.huffingtonpost.com/pollster/2014-new-hampshire-senate-bass-vs-shaheen.csv',\n",
        " u'http://elections.huffingtonpost.com/pollster/2014-north-carolina-senate-tillis-vs-hagan.csv',\n",
        " u'http://elections.huffingtonpost.com/pollster/2014-virginia-senate-gillespie-vs-warner.csv',\n",
        " u'http://elections.huffingtonpost.com/pollster/2014-colorado-senate-gardner-vs-udall.csv',\n",
        " u'http://elections.huffingtonpost.com/pollster/2014-illinois-senate-oberweis-vs-durbin.csv',\n",
        " u'http://elections.huffingtonpost.com/pollster/2014-alaska-senate-sullivan-vs-begich.csv',\n",
        " u'http://elections.huffingtonpost.com/pollster/2014-iowa-senate-ernst-vs-braley.csv',\n",
        " u'http://elections.huffingtonpost.com/pollster/2014-mississippi-senate-cochran-vs-childers.csv',\n",
        " u'http://elections.huffingtonpost.com/pollster/2014-oregon-senate-wehby-vs-merkley.csv',\n",
        " u'http://elections.huffingtonpost.com/pollster/2014-georgia-senate-perdue-vs-nunn.csv',\n",
        " u'http://elections.huffingtonpost.com/pollster/2014-nebraska-senate-sasse-vs-domina.csv',\n",
        " u'http://elections.huffingtonpost.com/pollster/2014-south-dakota-senate-rounds-vs-weiland.csv',\n",
        " u'http://elections.huffingtonpost.com/pollster/2014-maine-senate-collins-vs-bellows.csv',\n",
        " u'http://elections.huffingtonpost.com/pollster/2014-minnesota-senate-mcfadden-vs-franken.csv',\n",
        " u'http://elections.huffingtonpost.com/pollster/2014-texas-senate-cornyn-vs-alameel.csv',\n",
        " u'http://elections.huffingtonpost.com/pollster/2014-south-carolina-senate-graham-vs-hutto.csv',\n",
        " u'http://elections.huffingtonpost.com/pollster/2014-south-carolina-senate-scott-vs-dickerson.csv',\n",
        " u'http://elections.huffingtonpost.com/pollster/2014-oklahoma-senate-inhofe-vs-silverstein.csv',\n",
        " u'http://elections.huffingtonpost.com/pollster/2014-new-mexico-senate-weh-vs-udall.csv',\n",
        " u'http://elections.huffingtonpost.com/pollster/2014-new-jersey-senate-bell-vs-booker.csv',\n",
        " u'http://elections.huffingtonpost.com/pollster/2014-idaho-senate-risch-vs-mitchell.csv',\n",
        " u'http://elections.huffingtonpost.com/pollster/2014-tennessee-senate-alexander-vs-ball.csv',\n",
        " u'http://elections.huffingtonpost.com/pollster/2014-wyoming-senate.csv',\n",
        " u'http://elections.huffingtonpost.com/pollster/2014-kansas-senate-roberts-vs-orman-vs-taylor.csv',\n",
        " u'http://elections.huffingtonpost.com/pollster/2014-hawaii-senate-cavasso-vs-schatz.csv',\n",
        " u'http://elections.huffingtonpost.com/pollster/2014-oklahoma-senate-lankford-vs-johnson.csv',\n",
        " u'http://elections.huffingtonpost.com/pollster/2014-montana-senate-daines-vs-curtis.csv',\n",
        " u'http://elections.huffingtonpost.com/pollster/2014-rhode-island-senate-zaccaria-vs-reed.csv',\n",
        " u'http://elections.huffingtonpost.com/pollster/2014-massachusetts-senate-herr-vs-markey.csv',\n",
        " u'http://elections.huffingtonpost.com/pollster/2014-delaware-senate-wade-vs-coons.csv']"
       ]
      }
     ],
     "prompt_number": 39
    },
    {
     "cell_type": "markdown",
     "metadata": {},
     "source": [
      "Because there so many Senate races, we can create a dictionary of pandas DataFrames that will be keyed by the name of the election (a string). "
     ]
    },
    {
     "cell_type": "code",
     "collapsed": false,
     "input": [
      "def build_frame(url):\n",
      "    \"\"\"\n",
      "    Returns a pandas DataFrame object containing\n",
      "    the data returned from the given url\n",
      "    \"\"\"\n",
      "    source = requests.get(url).text\n",
      "    \n",
      "    # Use StringIO because pd.DataFrame.from_csv requires .read() method\n",
      "    s = StringIO(source)\n",
      "    \n",
      "    return pd.DataFrame.from_csv(s, index_col=None).convert_objects(\n",
      "            convert_dates=\"coerce\", convert_numeric=True)"
     ],
     "language": "python",
     "metadata": {},
     "outputs": [],
     "prompt_number": 40
    },
    {
     "cell_type": "code",
     "collapsed": false,
     "input": [
      "# Makes a dictionary of pandas DataFrames keyed on election string.\n",
      "dfs = dict((election.split(\"/\")[-1][:-4], build_frame(election)) for election in election_urls)"
     ],
     "language": "python",
     "metadata": {},
     "outputs": [],
     "prompt_number": 41
    },
    {
     "cell_type": "markdown",
     "metadata": {},
     "source": [
      "Show the head of the DataFrame containing the polls for the 2014 Senate race in Kentucky between McConnell and Grimes."
     ]
    },
    {
     "cell_type": "code",
     "collapsed": false,
     "input": [
      "#your code here"
     ],
     "language": "python",
     "metadata": {},
     "outputs": [],
     "prompt_number": 42
    },
    {
     "cell_type": "markdown",
     "metadata": {},
     "source": [
      "#### Problem 4(b)\n",
      "\n",
      "For each 2014 Senate race, create a preliminary prediction of the result for that state."
     ]
    },
    {
     "cell_type": "code",
     "collapsed": false,
     "input": [
      "#your code here"
     ],
     "language": "python",
     "metadata": {},
     "outputs": [],
     "prompt_number": 43
    },
    {
     "cell_type": "markdown",
     "metadata": {},
     "source": [
      "# Submission Instructions\n",
      "\n",
      "To submit your homework, create a folder named **lastname_firstinitial_hw#** and place your IPython notebooks, data files, and any other files in this folder. Your IPython Notebooks should be completely executed with the results visible in the notebook. We should not have to run any code.  Compress the folder (please use .zip compression) and submit to the CS109 dropbox in the appropriate folder. *If we cannot access your work because these directions are not followed correctly, we will not grade your work.*\n"
     ]
    },
    {
     "cell_type": "code",
     "collapsed": false,
     "input": [],
     "language": "python",
     "metadata": {},
     "outputs": [],
     "prompt_number": 43
    }
   ],
   "metadata": {}
  }
 ]
}